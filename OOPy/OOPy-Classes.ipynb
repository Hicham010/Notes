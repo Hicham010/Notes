{
 "cells": [
  {
   "cell_type": "markdown",
   "metadata": {},
   "source": [
    "# Object Oriented Modeling"
   ]
  },
  {
   "cell_type": "markdown",
   "metadata": {},
   "source": [
    "This note introduces main concepts of object oriented modeling. \n",
    "\n",
    "## Motivation\n",
    "\n",
    "Examples:\n",
    "- Imagine all different *intances* of bicycles. We can *classify* them based on their common attributes: model, chassy number, number of gears. Each separate bicycle assignes different values for these common *attributes*.\n",
    "- Think about all different *instances* of cars. They can be *classified* based on their common attributes: model, plate number, chassy number, color, etc. Again each separate instance of car has different values for their *attributes*.\n",
    "- Interestingly, both bicycle and car are *a kind of* vehicle. We can define an *abstract* group that can specify shared attributes. \n",
    "\n",
    "Here we will practice how to *model* these groups of objects: both in a programming language, like Python and a visualized modeling language, like UML.\n"
   ]
  },
  {
   "cell_type": "markdown",
   "metadata": {},
   "source": [
    "## Class vs. Object\n",
    "\n",
    "A class is defined as a group of entities with common properties. An instance of a class is an object with certain values assigned for attributes. \n",
    "\n",
    "Let's define a class: How can we define a group of books? \n",
    "To define a class, first you have to think about its properties. A book usually is distinguished with its title, author(s), publisher, ISBN number, edition number, etc. \n",
    "We are interested to use a visualised modeling language to define our class. Here is a UML model for our class:\n",
    "\n",
    "<img src=\"./oopy-images/oopy-classes-book.png\" alt=\"A class Book in UML\" >\n",
    "\n",
    "As you can see in the example, a class in UML is visualized with a rectangular with three compartments: upper part for the name of the class which must be unique, middle part that specifies all the attributes, and lower section that defines the behaviour (what does it mean? We will see later).\n",
    "\n",
    "To define a class in UML:\n",
    "- Specify its name. This is minimum for a class definition.\n",
    "- Specify its attributes. Each attribute has a *visibility*; here we define all as public (this is the meaning of + in the model), a *type*; like integer, character, string, etc, a *name*; simply a variable name; an *initial value*; which defines the value of the attribute when an object is *created*.\n",
    "- Specify its behaviour. We will discuss this later.\n",
    "\n",
    "Items mentioned above still might not be crystally clear. Let's define our class in Python. Here is the code:\n"
   ]
  },
  {
   "cell_type": "code",
   "execution_count": 1,
   "metadata": {},
   "outputs": [
    {
     "name": "stdout",
     "output_type": "stream",
     "text": [
      "This is a class to define Book. Still not very useful, but simple enough to start.\n",
      "let's create two instances of Book\n",
      "two objects are cteated ...\n"
     ]
    }
   ],
   "source": [
    "\n",
    "class Book:\n",
    "    '''This is a class to define Book. Still not very useful, but simple enough to start.'''\n",
    "    pass\n",
    "\n",
    "if __name__ == \"__main__\":\n",
    "    print(Book.__doc__)\n",
    "    print(\"let's create two instances of \"+Book.__name__)\n",
    "    myfirstbook = Book  # This is one instance (object) created from Book.\n",
    "    mysecondbook = Book # This is another instance (object) created from Book\n",
    "    print(\"two objects are cteated ...\")\n"
   ]
  },
  {
   "cell_type": "markdown",
   "metadata": {},
   "source": [
    "In this simple example check:\n",
    "- How a class is defined?\n",
    "- How one can access the description and the name of the class.\n",
    "- How an object is instantiated.\n",
    "\n",
    "What can objects do for us? We need to extend our class with some attributes. Here is the next version of our class:"
   ]
  },
  {
   "cell_type": "code",
   "execution_count": 5,
   "metadata": {},
   "outputs": [
    {
     "name": "stdout",
     "output_type": "stream",
     "text": [
      " Class Book:  This is a class to define Book with some common attributes.\n",
      "__init__ function of the class  Initializes the attributes.\n",
      "The title of the book is: Object Oriented Programming in Python Authored by: Michael H. Goldwasser\n"
     ]
    }
   ],
   "source": [
    "class Book:\n",
    "    '''This is a class to define Book with some common attributes.'''\n",
    "    def __init__(self):\n",
    "        '''Initializes the attributes.'''\n",
    "        title=\"\"\n",
    "        author=\"\"\n",
    "        isbn=\"\"\n",
    "        pages=0\n",
    "        publisher=\"\"\n",
    "        edition=0\n",
    "\n",
    "\n",
    "if __name__ == \"__main__\":\n",
    "    print(\" Class Book: \",Book.__doc__)\n",
    "    print(\"__init__ function of the class \",Book.__init__.__doc__)    \n",
    "\n",
    "    ooinpy = Book  # here we create the object\n",
    "    # let's assign values for our first object\n",
    "    ooinpy.title  = \"Object Oriented Programming in Python\"\n",
    "    ooinpy.author = \"Michael H. Goldwasser\"\n",
    "    ooinpy.isbn = \"0136150314\"\n",
    "    ooinpy.pages = 666\n",
    "    ooinpy.publisher = \"Pearson Prentice Hall\"\n",
    "    ooinpy.edition = 3\n",
    "\n",
    "    # let's read some values from the book\n",
    "    print(\"The title of the book is: \"+ooinpy.title+\" Authored by: \"+ooinpy.author)\n"
   ]
  },
  {
   "cell_type": "markdown",
   "metadata": {},
   "source": [
    "** Exercise:** Create your second book with the information of your favourite book. Print all the information in a clear format."
   ]
  },
  {
   "cell_type": "markdown",
   "metadata": {},
   "source": [
    "As you can see in the code above, the __init__ function initializes the attributes of the object. But when is it called? When an object is created, this __init__ function is called automatically. \n",
    "In the next step I am going to refactor the code and re-implement it to make the role of the __init__ function more clear."
   ]
  },
  {
   "cell_type": "code",
   "execution_count": 7,
   "metadata": {},
   "outputs": [
    {
     "name": "stdout",
     "output_type": "stream",
     "text": [
      " Class Book:  This is a class to define Book with some common attributes.\n",
      "__init__ function of the class  Initializes the attributes.\n",
      "The title of the book is: Object Oriented Programming in Python Authored by: Michael H. Goldwasser\n"
     ]
    }
   ],
   "source": [
    "\n",
    "class Book:\n",
    "    '''This is a class to define Book with some common attributes.'''\n",
    "    def __init__(self,val_title=\"\",val_author=\"\",val_isbn=\"\",val_pages=0,val_publisher=\"\",val_edition=0):\n",
    "        '''Initializes the attributes.'''\n",
    "        self.title=val_title\n",
    "        self.author=val_author\n",
    "        self.isbn=val_isbn\n",
    "        self.pages=val_pages\n",
    "        self.publisher=val_publisher\n",
    "        self.edition=val_edition\n",
    "\n",
    "\n",
    "if __name__ == \"__main__\":\n",
    "    print(\" Class Book: \",Book.__doc__)\n",
    "    print(\"__init__ function of the class \",Book.__init__.__doc__)\n",
    "\n",
    "    ooinpy = Book(\"Object Oriented Programming in Python\",\n",
    "                  \"Michael H. Goldwasser\",\"0136150314\",666,\"Pearson Prentice Hall\",3)\n",
    "    # let's read some values from the book\n",
    "    print(\"The title of the book is: \"+ooinpy.title+\" Authored by: \"+ooinpy.author)\n"
   ]
  },
  {
   "cell_type": "markdown",
   "metadata": {},
   "source": [
    "In the code above, check:\n",
    "- how the __init__ function is parametrized with arguments.\n",
    "- how the body of __init__ is *refrencing* the **self** .\n",
    "- how the instantiation of ooinpy is simplified with parameters."
   ]
  },
  {
   "cell_type": "code",
   "execution_count": 10,
   "metadata": {},
   "outputs": [
    {
     "name": "stdout",
     "output_type": "stream",
     "text": [
      "[ Book information ]: Titled:Object Oriented Programming in Python , Written by:Michael H. Goldwasser , Published by:Pearson Prentice Hall\n"
     ]
    }
   ],
   "source": [
    "class Book:\n",
    "    '''This is a class to define Book with some common attributes.'''\n",
    "    def __init__(self,val_title=\"\",val_author=\"\",val_isbn=\"\",val_pages=0,val_publisher=\"\",val_edition=0):\n",
    "        '''Initializes the attributes.'''\n",
    "        self.title=val_title\n",
    "        self.author=val_author\n",
    "        self.isbn=val_isbn\n",
    "        self.pages=val_pages\n",
    "        self.publisher=val_publisher\n",
    "        self.edition=val_edition\n",
    "\n",
    "    def toString(self):\n",
    "        '''Builds a string from the information of the book.'''\n",
    "        sep = \" , \"\n",
    "        title_str = \" Titled:\"+self.title\n",
    "        author_str = \"Written by:\"+self.author\n",
    "        publisher_str = \"Published by:\"+self.publisher\n",
    "        res = \"[ Book information ]:\"+title_str+sep+author_str+sep+publisher_str\n",
    "        return res\n",
    "\n",
    "if __name__ == \"__main__\":\n",
    "    ooinpy = Book(\"Object Oriented Programming in Python\",\n",
    "                  \"Michael H. Goldwasser\",\"0136150314\",666,\"Pearson Prentice Hall\",3)\n",
    "    # let's print the book information\n",
    "    print(ooinpy.toString())\n"
   ]
  },
  {
   "cell_type": "markdown",
   "metadata": {},
   "source": [
    "Now our class Book:\n",
    "- *stores* relevant data: title, author, pages, ... ; and\n",
    "- exports a *behaviour*: it turns the information of the book into a string to be printed.\n",
    "\n",
    "We have extended our code, but our UML model does not match with our latest version of the code. Let's update the model:\n",
    "\n",
    "<img src=\"./oopy-images/oopy-classes-book2.png\" alt=\"A class Book in UML\" >\n",
    "\n",
    "We have updated our model with a method (function) which is public (it is accessible by other objects), returns a value with type string and it has no argument.\n",
    "\n",
    "**Exercise:** Compare the UML model with the code. Can you point the piece of the code which is represeted by UML model? Did we model the class or the object? Where is the object in the code? Can you explain what do we mean by *object life-time*?"
   ]
  },
  {
   "cell_type": "markdown",
   "metadata": {},
   "source": [
    "**Todo:**\n",
    "\n",
    "- Define the concept of type: now Book is a type that can have a value.\n",
    "- Encapsulation, private vs. public.\n"
   ]
  },
  {
   "cell_type": "markdown",
   "metadata": {},
   "source": [
    "**Exercise:** Define a class Person. Define basic attributes of a person (first name, last name, email, etc).\n",
    "\n",
    "**Exercise:** Use your defined class Person to defin the authors of the Book. Update the methods of the Book accordingly.\n",
    "\n",
    "**Exercise:** Define a class Point2D: a two dimensional point. What are the attributes? Define a method named distance. The task of this method is to calculate the distance between itself and the given point.\n",
    "Hint: Distance between two points $(x_1,y_1)$ and $(x_2,y_2)$ is calculated using this formula:\n",
    "$\\sqrt{(x_2-x_1)^2+(y_2-y_1)^2}$.\n",
    "\n",
    "**Exercise:** Using your class of Point2D, build a list of some 2D points (it can be random). Take the first point of the list. Find the maximum distance between the first point and the rest. "
   ]
  },
  {
   "cell_type": "code",
   "execution_count": null,
   "metadata": {},
   "outputs": [],
   "source": []
  }
 ],
 "metadata": {
  "kernelspec": {
   "display_name": "Python 3",
   "language": "python",
   "name": "python3"
  },
  "language_info": {
   "codemirror_mode": {
    "name": "ipython",
    "version": 3
   },
   "file_extension": ".py",
   "mimetype": "text/x-python",
   "name": "python",
   "nbconvert_exporter": "python",
   "pygments_lexer": "ipython3",
   "version": "3.6.4"
  }
 },
 "nbformat": 4,
 "nbformat_minor": 2
}
