{
 "cells": [
  {
   "cell_type": "markdown",
   "metadata": {},
   "source": [
    "# Case Study: Notebook\n",
    "\n",
    "In this note we try to model and build a simple program to manage our note: A Notebook.\n",
    "\n",
    "### Description (Basic)\n",
    "\n",
    "A notebook can contain some notes. Each note has a unique id. A note can be a structured note or an unstructured note. Some examples of a structured note can be a wish list, to do list, or etc. Each one can have some items, a date for deadline. An unstructured note can have a title, a body, like a diary, a general idea, etc. An author of a note should be able to manage notes and items: add, delete, search a keyword, print.\n",
    "\n",
    "Some questions to think: How to manage uniquness of each id? Each note has an author, but a notebook has an owner. How to model / implement it? \n"
   ]
  },
  {
   "cell_type": "code",
   "execution_count": null,
   "metadata": {},
   "outputs": [],
   "source": []
  }
 ],
 "metadata": {
  "kernelspec": {
   "display_name": "Python 3",
   "language": "python",
   "name": "python3"
  },
  "language_info": {
   "codemirror_mode": {
    "name": "ipython",
    "version": 3
   },
   "file_extension": ".py",
   "mimetype": "text/x-python",
   "name": "python",
   "nbconvert_exporter": "python",
   "pygments_lexer": "ipython3",
   "version": "3.6.4"
  }
 },
 "nbformat": 4,
 "nbformat_minor": 2
}
