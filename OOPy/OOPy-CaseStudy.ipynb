{
 "cells": [
  {
   "cell_type": "markdown",
   "metadata": {},
   "source": [
    "# Case Study: Notebook\n",
    "\n",
    "In this note we try to model and build a simple program to manage our notes: A Notebook program.\n",
    "\n",
    "## Description (Basic)\n",
    "\n",
    "A notebook can contain some notes. Each note has a unique id. A note can be a structured note or an unstructured note. Some examples of a structured note can be a wish list, to do list, or etc. Each one can have some items, a date for deadline. An unstructured note can have a title, a body, like a diary, a general idea, etc. An author of a note should be able to manage notes and items: add, delete, search a keyword, print.\n",
    "\n",
    "Some questions to think: How to manage uniquness of each id? Each note has an author, but a notebook has an owner. How to model / implement it? \n",
    "\n",
    "Let's define a list of features for our Notebook application:\n",
    "- The program should be able to save / load contents of a note into / from a file and/or database.\n",
    "- The program should be able to manage various stages of the items from structured notes. For example, a task in a todo list can be in of the Pending, InProgress or Done states.\n",
    "- The program should import / export note and related information in a standard format.\n"
   ]
  },
  {
   "cell_type": "markdown",
   "metadata": {},
   "source": [
    "## Practice\n",
    "\n",
    "**Modelling**: Model a class diagram in which specifies main classes: Notebook, Note, Structured and Unstructured nots, WishList and TodoList. Specify the relashipships as much as possible. Define main attributes and/or methods. For example: adding a note, deleting a note.\n",
    "\n",
    "**Programming**: Implement the basic classes: Notebook, Note, Structured and Unstructured. To test your program add / remove some notes. \n",
    "\n",
    "**Modeling**: Structured notes contain items. Update your model in a way that specifies items. Do you define them as primitive types, like string? Item by itself can have some properties: id , name, content, state, ... . Items for a wish-list can be slightly different from items from todo-list. For example, an item of a wish-list does not have a deadline, but the item of a todo list may have a deadline. What is your proposed solution to specify this?\n",
    "\n",
    "**Programming**: Implement your updated model: items, wish-list items and todo-list items.\n",
    "\n",
    "**Model**: Your application needs to load / save notes / note books. Update your model where you specify these functionalities.\n",
    "\n",
    "**Programming**: Implement specified methods for save / load for notes.\n",
    "\n",
    "**Programming**: Implement specified methods for save / load for notebook.\n",
    "\n",
    "**Modeling**: Specify (using state machine diagrams) the life-time of an item.\n",
    "\n",
    "**Modeling**: Define search functionalities in your model: search in body , search in titles. Where would you define the methods?\n",
    "\n",
    "**Programming**: Implement the search functionalities in your program. Your program can ask a term from the user and looks for the given term in the notebook. The program can return the note where the term is found.\n"
   ]
  },
  {
   "cell_type": "code",
   "execution_count": null,
   "metadata": {},
   "outputs": [],
   "source": []
  }
 ],
 "metadata": {
  "kernelspec": {
   "display_name": "Python 3",
   "language": "python",
   "name": "python3"
  },
  "language_info": {
   "codemirror_mode": {
    "name": "ipython",
    "version": 3
   },
   "file_extension": ".py",
   "mimetype": "text/x-python",
   "name": "python",
   "nbconvert_exporter": "python",
   "pygments_lexer": "ipython3",
   "version": "3.6.4"
  }
 },
 "nbformat": 4,
 "nbformat_minor": 2
}
