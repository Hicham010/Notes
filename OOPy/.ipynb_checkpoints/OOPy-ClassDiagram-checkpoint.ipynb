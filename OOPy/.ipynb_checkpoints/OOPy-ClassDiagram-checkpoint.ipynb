{
 "cells": [
  {
   "cell_type": "markdown",
   "metadata": {},
   "source": [
    "# Object Oriented Modeling: Class Diagrams\n",
    "\n",
    "In this note we present all aspectas of a class diagram in UML and techniques to implement the agiven model.\n"
   ]
  },
  {
   "cell_type": "markdown",
   "metadata": {},
   "source": [
    "## Review\n",
    "\n",
    "We have already discussed:\n",
    "- Classes vs. Objects: How one model a single class in UML and how it can be implemented in Python.\n",
    "- Relations: How three basic relations can be modeled in UML and how it is implemented in Python."
   ]
  },
  {
   "cell_type": "markdown",
   "metadata": {},
   "source": [
    "## Static members\n",
    "\n",
    "**Definition**: Class members are the members that belong to the class (not the instance).\n",
    "\n",
    "**Example**: Check the code below. The class Person contains a class attribute (static attribute) that is incremented everytime an instance is created from the class. All the clreated objects from this class share this attribute. But, the names of each instantiated person is different. Each object from Person has different name.\n"
   ]
  },
  {
   "cell_type": "code",
   "execution_count": 2,
   "metadata": {},
   "outputs": [
    {
     "name": "stdout",
     "output_type": "stream",
     "text": [
      "Number of points created: 4\n",
      "Point(15,5)\n",
      "Point(67,85)\n",
      "Point(49,70)\n",
      "Point(9,43)\n"
     ]
    }
   ],
   "source": [
    "from random import *\n",
    "\n",
    "class Point2D:\n",
    "    instance_count = 0  # Check how to define a class attribute\n",
    "    def __init__(self,x_val,y_val):\n",
    "        self.x = x_val  # Check: this is an attribute for the object (instance)\n",
    "        self.y = y_val  # Check: another instance attribute, self refers to the object\n",
    "        Point2D.instance_count +=1  # Check how to access to the class attribute: using class name\n",
    "\n",
    "    def __str__(self):  # This method will help to print the class\n",
    "        return 'Point('+str(self.x)+','+str(self.y)+')'\n",
    "\n",
    "if __name__ == '__main__':\n",
    "    points = []\n",
    "    for _ in range(1,5):\n",
    "        px , py = randint(1,100) , randint(1,100) # Generate two random x and y\n",
    "        p = Point2D(px,py)  # Instantiate an object\n",
    "        points.append(p) # add the object in the list\n",
    "\n",
    "    print('Number of points created:', Point2D.instance_count) # Check the value. What do you expect?\n",
    "\n",
    "    for p in points:\n",
    "        print(p)  # Check: behind the scene the method __str__ is called"
   ]
  },
  {
   "cell_type": "markdown",
   "metadata": {},
   "source": [
    "**Exercise**: There is pre-defined list of student numbers. Define a class for Student such that each instance of this class has one unique student number from this list. Test your code with five instances. Hint: Use class variables to define and control the list of student numbers."
   ]
  },
  {
   "cell_type": "markdown",
   "metadata": {},
   "source": [
    "## Composition and Aggregation\n",
    "\n",
    "**Definition**: Aggregation is a special type of association (another name is whole-part relation) indicating that a class owns objects of another class. Composition is a strong form of aggregation with more strong ownership.\n",
    "\n",
    "**Example**: Here there are two examples to present aggregation and composition. The first model specifies that an author (it means an instance of the class Author) *owns* several (zero or more) blogs (objects created from class the Blog). The second model specifies that a window *owns* one panel, zero or one headr, two slidebars.\n",
    "\n",
    "<img src=\"./oopy-images/oopy-aggregate-example-2.png\" alt=\"An example for aggregate\">\n",
    "\n",
    "<img src=\"./oopy-images/oopy-composite-example-1.png\" alt=\"An example for composite\">\n",
    "\n",
    "**Difference**: Both relations specify ownership. What is the difference? Aggregate may share its parts. In the aggregation relation, parts may exist independently from the aggregate. Aggregate owns its parts, but if it (the object) is deleted, the parts may continue their lifetime.\n",
    "In composite relation, lifetime of parts coincident with the lifetime of composite. If the owner object is deleted, all the objects from parts must be deleted. A part cannot be shared between various owners. This means that each part belongs to only one composite at a time.\n",
    "\n",
    "**Programming**: In Python, both aggregate and composite are implemented like association, i.e. parts are realized as attributes in the owner class.\n",
    "\n",
    "**Exercise**: Implement the models presented above.\n"
   ]
  },
  {
   "cell_type": "markdown",
   "metadata": {},
   "source": [
    "## Associate Classes\n",
    "\n",
    "**Definition**:\n",
    "\n",
    "**Example**:\n",
    "\n",
    "**UML**:\n",
    "\n",
    "**Programming**:"
   ]
  },
  {
   "cell_type": "markdown",
   "metadata": {},
   "source": [
    "## Abstract Classes\n",
    "\n",
    "**Definition**:\n",
    "\n",
    "**Example**:\n",
    "\n",
    "**UML**:\n",
    "\n",
    "**Programming**:"
   ]
  },
  {
   "cell_type": "markdown",
   "metadata": {},
   "source": [
    "## Polymorphism\n",
    "\n",
    "**Definition**:\n",
    "\n",
    "**Example**:\n",
    "\n",
    "**UML**:\n",
    "\n",
    "**Programming**:"
   ]
  },
  {
   "cell_type": "markdown",
   "metadata": {},
   "source": [
    "## Summary\n",
    "\n",
    "In this note we have practiced: \n",
    "Under construction ..."
   ]
  },
  {
   "cell_type": "markdown",
   "metadata": {},
   "source": [
    "## Practice:\n",
    "\n",
    "Under construction ... \n",
    "\n",
    "**Exercise**: "
   ]
  },
  {
   "cell_type": "code",
   "execution_count": null,
   "metadata": {},
   "outputs": [],
   "source": []
  }
 ],
 "metadata": {
  "kernelspec": {
   "display_name": "Python 3",
   "language": "python",
   "name": "python3"
  },
  "language_info": {
   "codemirror_mode": {
    "name": "ipython",
    "version": 3
   },
   "file_extension": ".py",
   "mimetype": "text/x-python",
   "name": "python",
   "nbconvert_exporter": "python",
   "pygments_lexer": "ipython3",
   "version": "3.6.4"
  }
 },
 "nbformat": 4,
 "nbformat_minor": 2
}
