{
 "cells": [
  {
   "cell_type": "markdown",
   "metadata": {},
   "source": [
    "# Object Oriented Modeling: Class Diagrams\n",
    "\n",
    "In this note we present all aspectas of a class diagram in UML and techniques to implement the agiven model.\n"
   ]
  },
  {
   "cell_type": "markdown",
   "metadata": {},
   "source": [
    "## Review\n",
    "\n",
    "We have already discussed:\n",
    "- Classes vs. Objects: How one model a single class in UML and how it can be implemented in Python.\n",
    "- Relations: How three basic relations can be modeled in UML and how it is implemented in Python."
   ]
  },
  {
   "cell_type": "markdown",
   "metadata": {},
   "source": [
    "## Class Diagram\n",
    "\n",
    "A class diagram of a (software) system specifies:\n",
    "- Static model of (software) units collaborating to each other.\n",
    "- Units are represented as *Classes*,\n",
    "- Collaborations are denoted statically as *Relations* between classes.\n"
   ]
  },
  {
   "cell_type": "markdown",
   "metadata": {},
   "source": [
    "## Static members\n",
    "\n",
    "**Definition**: Class members are the members that belong to the class (not the instance).\n",
    "\n",
    "**Example**: Check the code below. The class Person contains a class attribute (static attribute) that is incremented everytime an instance is created from the class. All the clreated objects from this class share this attribute. But, the names of each instantiated person is different. Each object from Person has different name.\n"
   ]
  },
  {
   "cell_type": "code",
   "execution_count": 4,
   "metadata": {},
   "outputs": [
    {
     "name": "stdout",
     "output_type": "stream",
     "text": [
      "Number of points created: 4\n",
      "Point(94,91)\n",
      "Point(39,92)\n",
      "Point(63,36)\n",
      "Point(41,44)\n"
     ]
    }
   ],
   "source": [
    "from random import *\n",
    "\n",
    "class Point2D:\n",
    "    instance_count = 0  # Check how to define a class attribute\n",
    "    def __init__(self,x_val,y_val):\n",
    "        self.x = x_val  # Check: this is an attribute for the object (instance)\n",
    "        self.y = y_val  # Check: another instance attribute, self refers to the object\n",
    "        Point2D.instance_count +=1  # Check how to access to the class attribute: using class name\n",
    "\n",
    "    def __str__(self):  # This method will help to print the class\n",
    "        return 'Point('+str(self.x)+','+str(self.y)+')'\n",
    "\n",
    "if __name__ == '__main__':\n",
    "    points = []\n",
    "    for _ in range(1,5):\n",
    "        px , py = randint(1,100) , randint(1,100) # Generate two random x and y\n",
    "        p = Point2D(px,py)  # Instantiate an object\n",
    "        points.append(p) # add the object in the list\n",
    "\n",
    "    print('Number of points created:', Point2D.instance_count) # Check the value. What do you expect?\n",
    "\n",
    "    for p in points:\n",
    "        print(p)  # Check: behind the scene the method __str__ of Point2D is called"
   ]
  },
  {
   "cell_type": "markdown",
   "metadata": {},
   "source": [
    "**Exercise**: Define a class for Die and Player. There will be four players and one normal six-sided die. All the players will share the same die. They have access to the die as an attribute but there must be only one instance to be used by all the players. How could you implement this? Extend your solution to define several dice.\n",
    "\n",
    "**Exercise**: There is pre-defined list of student numbers. Define a class for Student such that each instance of this class has one unique student number from this list. Test your code with five instances. Hint: Use class variables to define and control the list of student numbers."
   ]
  },
  {
   "cell_type": "markdown",
   "metadata": {},
   "source": [
    "### Static methods\n",
    "\n",
    "Sometimes in order to delegate a task we do not need to create an object. In these cases the task does not depend on the state of the object. These tasks can be defined as *static* within the class. Static methods (like static attributes or class variables in Python) belong to the class, not the instance. In Python we can use decorator ** @staticmethod ** to specify that the method is static.\n",
    "\n",
    "**Example**: Assume a class Calculator with some mathematical operations. In orther to multiply some numbers, there is no need to create a separate instance. Check the code below. See how a static method is defined and how it is called."
   ]
  },
  {
   "cell_type": "code",
   "execution_count": 7,
   "metadata": {},
   "outputs": [
    {
     "name": "stdout",
     "output_type": "stream",
     "text": [
      "120\n"
     ]
    }
   ],
   "source": [
    "class Calculator:\n",
    "    @staticmethod  # Check: this decorator defines a static method\n",
    "    def multiply(*vals):\n",
    "        r = 1\n",
    "        for n in vals:\n",
    "            r = r*n\n",
    "        return r\n",
    "\n",
    "if __name__ == '__main__':\n",
    "    print(Calculator.multiply(2, 3, 4, 5))  # Check: to call a method, we only need to reference the class\n"
   ]
  },
  {
   "cell_type": "markdown",
   "metadata": {},
   "source": [
    "## Composition and Aggregation\n",
    "\n",
    "**Definition**: Aggregation is a special type of association (another name is whole-part relation) indicating that a class owns objects of another class. Composition is a strong form of aggregation with more strong ownership.\n",
    "\n",
    "**Example**: Here there are two examples to present aggregation and composition. The first model specifies that an author (it means an instance of the class Author) *owns* several (zero or more) blogs (objects created from class the Blog). The second model specifies that a window *owns* one panel, zero or one headr, two slidebars.\n",
    "\n",
    "<img src=\"./oopy-images/oopy-aggregate-example-2.png\" alt=\"An example for aggregate\">\n",
    "\n",
    "<img src=\"./oopy-images/oopy-composite-example-1.png\" alt=\"An example for composite\">\n",
    "\n",
    "**Difference**: Both relations specify ownership. What is the difference? Aggregate may share its parts. In the aggregation relation, parts may exist independently from the aggregate. Aggregate owns its parts, but if it (the object) is deleted, the parts may continue their lifetime.\n",
    "In composite relation, lifetime of parts coincident with the lifetime of composite. If the owner object is deleted, all the objects from parts must be deleted. A part cannot be shared between various owners. This means that each part belongs to only one composite at a time.\n",
    "\n",
    "**Programming**: In Python, both aggregate and composite are implemented like association, i.e. parts are realized as attributes in the owner class.\n",
    "\n",
    "**Exercise**: Implement the models presented above.\n"
   ]
  },
  {
   "cell_type": "markdown",
   "metadata": {},
   "source": [
    "## Associate Classes\n",
    "\n",
    "**Definition**: Sometimes association introduces a new class. Association class encapsulates attributes and behaviour of the relation. An association class is useful when each link (each instance of the association relation) must have its own attribute values, operations, or references to objects.\n",
    "\n",
    "**Example**: When a customer orders some products some attributes belong only to the order which is an association relation. For example, quantity of the order is an attribute that neither specifies the customer nor a property of the product.\n",
    "\n",
    "**UML**: An association class is a class connected to the association relation with a dashed line. See the model below.\n",
    "\n",
    "<img src=\"./oopy-images/oopy-assoclass-order-01.png\" alt=\"An example for association class.\">\n",
    "\n",
    "**Exercise**: Add two more attributes to the order.\n",
    "\n",
    "**Programming**: An association class is a normal class that can be implemented in Python (or any other OOPL). But, there is no specific rule to implement the accessibility and references of three classes. Depending on the context and problem statement one can define attributes within proper classes. The following code shows one sample implementation for our example, i.e. \"customer, product, order\"."
   ]
  },
  {
   "cell_type": "markdown",
   "metadata": {},
   "source": [
    "## Abstract Classes\n",
    "\n",
    "**Definition**: Abstract classes are classes without implementation. In abstract classes the implementation of the operations (behaviour) is decided by subclasses (children). Abstract classes contains only signature of the methods.\n",
    "\n",
    "**Example**: A Vehicle is an abstract concept. It is impossible to define the start behaviour for a vehicle unless we know the exact type of the vehicle: Is is a car? An electric car? A bike? A truck? But, we know some general properties.\n",
    "\n",
    "**UML**: In UML the name of an abstract class and an abstract method can be represented with an *italic* font, or the streptype specifies of a class or a method is abstract. See the models below.\n",
    "\n",
    "<img src=\"./oopy-images/oopy-abstract-vehicle-01.png\" alt=\"An example for abstract class.\">\n",
    "\n",
    "\n",
    "**Programming**:\n"
   ]
  },
  {
   "cell_type": "code",
   "execution_count": 8,
   "metadata": {},
   "outputs": [
    {
     "name": "stdout",
     "output_type": "stream",
     "text": [
      "Car Ford 4  wheels is starting ...\n"
     ]
    }
   ],
   "source": [
    "from abc import ABC, abstractmethod\n",
    "\n",
    "class Vehicle(ABC):\n",
    "    def __init__(self, ws , m=''):\n",
    "        self.model = m\n",
    "        self.wheels = ws\n",
    "        super().__init__()\n",
    "\n",
    "    @abstractmethod\n",
    "    def start(self):  # check: different vehicles have different mechanisms to start\n",
    "        pass\n",
    "\n",
    "class Car(Vehicle):\n",
    "    def __init__(self,m):\n",
    "        super().__init__(4,m)\n",
    "\n",
    "    def start(self): # check: the child class implement the behaviour of its abstract parent\n",
    "        # a proper code can be implemented here ...\n",
    "        print(self.__class__.__name__, self.model,self.wheels,' wheels is starting ...')\n",
    "\n",
    "if __name__==\"__main__\":\n",
    "    #v = Vehicle(1)  # Error: try to instantiate an object ...\n",
    "    car_ford = Car('Ford')\n",
    "    car_ford.start()"
   ]
  },
  {
   "cell_type": "markdown",
   "metadata": {},
   "source": [
    "**Exercise**: How would you extend the model and the implementation above with Bicycle? How would you add ElectricCar and FueledCar?"
   ]
  },
  {
   "cell_type": "markdown",
   "metadata": {},
   "source": [
    "## Summary\n",
    "\n",
    "In this note we have practiced: \n",
    "Under construction ..."
   ]
  },
  {
   "cell_type": "markdown",
   "metadata": {},
   "source": [
    "## Practice:\n",
    "\n",
    "**Exercise**: Model and implement the following problem statement. \"An airline can have one or more persons as its passengers. Each passenger has a ticket issued by airline. Each ticket encapsulates: the date, seat, source and destination airports.\""
   ]
  }
 ],
 "metadata": {
  "kernelspec": {
   "display_name": "Python 3",
   "language": "python",
   "name": "python3"
  },
  "language_info": {
   "codemirror_mode": {
    "name": "ipython",
    "version": 3
   },
   "file_extension": ".py",
   "mimetype": "text/x-python",
   "name": "python",
   "nbconvert_exporter": "python",
   "pygments_lexer": "ipython3",
   "version": "3.6.4"
  }
 },
 "nbformat": 4,
 "nbformat_minor": 2
}
