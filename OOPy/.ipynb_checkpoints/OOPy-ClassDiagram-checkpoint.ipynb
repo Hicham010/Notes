{
 "cells": [
  {
   "cell_type": "markdown",
   "metadata": {},
   "source": [
    "# Object Oriented Modeling: Class Diagrams\n",
    "\n",
    "In this note we present all aspectas of a class diagram in UML and techniques to implement the agiven model.\n"
   ]
  },
  {
   "cell_type": "markdown",
   "metadata": {},
   "source": [
    "## Review\n",
    "\n",
    "We have already discussed:\n",
    "- Classes vs. Objects: How one model a single class in UML and how it can be implemented in Python.\n",
    "- Relations: How three basic relations can be modeled in UML and how it is implemented in Python."
   ]
  },
  {
   "cell_type": "markdown",
   "metadata": {},
   "source": [
    "## Static members\n",
    "\n",
    "**Definition**:\n",
    "\n",
    "**Example**:\n",
    "\n",
    "**UML**:\n",
    "\n",
    "**Programming**:"
   ]
  },
  {
   "cell_type": "markdown",
   "metadata": {},
   "source": [
    "## Composition and Aggregation\n",
    "\n",
    "**Definition**: Aggregation is a special type of association (another name is whole-part relation) indicating that a class owns objects of another class. Composition is a strong form of aggregation with more strong ownership.\n",
    "\n",
    "**Example**: Here there are two examples to present aggregation and composition. The first model specifies that an author (it means an instance of the class Author) *owns* several (zero or more) blogs (objects created from class the Blog). The second model specifies that a window *owns* one panel, zero or one headr, two slidebars.\n",
    "\n",
    "<img src=\"./oopy-images/oopy-aggregate-example-2.png\" alt=\"An example for aggregate\">\n",
    "\n",
    "<img src=\"./oopy-images/oopy-composite-example-1.png\" alt=\"An example for composite\">\n",
    "\n",
    "**Difference**: Both relations specify ownership. What is the difference? Aggregate may share its parts. In the aggregation relation, parts may exist independently from the aggregate. Aggregate owns its parts, but if it (the object) is deleted, the parts may continue their lifetime.\n",
    "In composite relation, lifetime of parts coincident with the lifetime of composite. If the owner object is deleted, all the objects from parts must be deleted. A part cannot be shared between various owners. This means that each part belongs to only one composite at a time.\n",
    "\n",
    "**Programming**: In Python, both aggregate and composite are implemented like association, i.e. parts are realized as attributes in the owner class.\n",
    "\n",
    "**Exercise**: Implement the models presented above.\n"
   ]
  },
  {
   "cell_type": "markdown",
   "metadata": {},
   "source": [
    "## Associate Classes\n",
    "\n",
    "**Definition**:\n",
    "\n",
    "**Example**:\n",
    "\n",
    "**UML**:\n",
    "\n",
    "**Programming**:"
   ]
  },
  {
   "cell_type": "markdown",
   "metadata": {},
   "source": [
    "## Abstract Classes\n",
    "\n",
    "**Definition**:\n",
    "\n",
    "**Example**:\n",
    "\n",
    "**UML**:\n",
    "\n",
    "**Programming**:"
   ]
  },
  {
   "cell_type": "markdown",
   "metadata": {},
   "source": [
    "## Polymorphism\n",
    "\n",
    "**Definition**:\n",
    "\n",
    "**Example**:\n",
    "\n",
    "**UML**:\n",
    "\n",
    "**Programming**:"
   ]
  },
  {
   "cell_type": "markdown",
   "metadata": {},
   "source": [
    "## Summary\n",
    "\n",
    "In this note we have practiced: \n",
    "Under construction ..."
   ]
  },
  {
   "cell_type": "markdown",
   "metadata": {},
   "source": [
    "## Practice:\n",
    "\n",
    "Under construction ... \n",
    "\n",
    "**Exercise**: "
   ]
  },
  {
   "cell_type": "code",
   "execution_count": null,
   "metadata": {},
   "outputs": [],
   "source": []
  }
 ],
 "metadata": {
  "kernelspec": {
   "display_name": "Python 3",
   "language": "python",
   "name": "python3"
  },
  "language_info": {
   "codemirror_mode": {
    "name": "ipython",
    "version": 3
   },
   "file_extension": ".py",
   "mimetype": "text/x-python",
   "name": "python",
   "nbconvert_exporter": "python",
   "pygments_lexer": "ipython3",
   "version": "3.6.4"
  }
 },
 "nbformat": 4,
 "nbformat_minor": 2
}
