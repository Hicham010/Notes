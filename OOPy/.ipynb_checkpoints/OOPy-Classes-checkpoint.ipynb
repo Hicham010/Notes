{
 "cells": [
  {
   "cell_type": "markdown",
   "metadata": {},
   "source": [
    "# Object Oriented Modeling"
   ]
  },
  {
   "cell_type": "markdown",
   "metadata": {},
   "source": [
    "This note introduces main concepts of object oriented modeling. \n",
    "\n",
    "## Motivation\n",
    "\n",
    "Examples:\n",
    "- Imagine all different *intances* of bicycles. We can *classify* them based on their common attributes: model, chassy number, number of gears. Each separate bicycle assignes different values for these common *attributes*.\n",
    "- Think about all different *instances* of cars. They can be *classified* based on their common attributes: model, plate number, chassy number, color, etc. Again each separate instance of car has different values for their *attributes*.\n",
    "- Interestingly, both bicycle and car are *a kind of* vehicle. We can define an *abstract* group that can specify shared attributes. \n",
    "\n",
    "Here we will practice how to *model* these groups of objects: both in a programming language, like Python and a visualized modeling language, like UML.\n"
   ]
  },
  {
   "cell_type": "markdown",
   "metadata": {},
   "source": [
    "## Class vs. Object\n",
    "\n",
    "A class is defined as a group of entities with common properties. An instance of a class is an object with certain values assigned for attributes. \n",
    "\n",
    "Let's define a class: How can we define a group of books? \n",
    "To define a class, first you have to think about its properties. A book usually is distinguished with its title, author(s), publisher, ISBN number, edition number, etc. \n",
    "We are interested to use a visualised modeling language to define our class. Here is a UML model for our class:\n",
    "\n",
    "<img src=\"./oopy-images/oopy-classes-book.png\" alt=\"A class Book in UML\" >\n",
    "\n",
    "As you can see in the example, a class in UML is visualized with a rectangular with three compartments: upper part for the name of the class which must be unique, middle part that specifies all the attributes, and lower section that defines the behaviour (what does it mean? We will see later).\n",
    "\n",
    "To define a class in UML:\n",
    "- Specify its name. This is minimum for a class definition.\n",
    "- Specify its attributes. Each attribute has a *visibility*; here we define all as public (this is the meaning of + in the model), a *type*; like integer, character, string, etc, a *name*; simply a variable name; an *initial value*; which defines the value of the attribute when an object is *created*.\n",
    "- Specify its behaviour. We will discuss this later.\n",
    "\n",
    "Items mentioned above still might not be crystally clear. Let's define our class in Python. Here is the code:\n"
   ]
  },
  {
   "cell_type": "code",
   "execution_count": 1,
   "metadata": {},
   "outputs": [
    {
     "name": "stdout",
     "output_type": "stream",
     "text": [
      "This is a class to define Book. Still not very useful, but simple enough to start.\n",
      "let's create two instances of Book\n",
      "two objects are cteated ...\n"
     ]
    }
   ],
   "source": [
    "\n",
    "class Book:\n",
    "    '''This is a class to define Book. Still not very useful, but simple enough to start.'''\n",
    "    pass\n",
    "\n",
    "if __name__ == \"__main__\":\n",
    "    print(Book.__doc__)\n",
    "    print(\"let's create two instances of \"+Book.__name__)\n",
    "    myfirstbook = Book  # This is one instance (object) created from Book.\n",
    "    mysecondbook = Book # This is another instance (object) created from Book\n",
    "    print(\"two objects are cteated ...\")\n"
   ]
  },
  {
   "cell_type": "markdown",
   "metadata": {},
   "source": [
    "In this simple example check:\n",
    "- How a class is defined?\n",
    "- How one can access the description and the name of the class.\n",
    "- How an object is instantiated.\n",
    "\n",
    "What do objects can do for us? We need to extend our class with some attributes. Here is the next version of our class:"
   ]
  },
  {
   "cell_type": "code",
   "execution_count": 5,
   "metadata": {},
   "outputs": [
    {
     "name": "stdout",
     "output_type": "stream",
     "text": [
      " Class Book:  This is a class to define Book with some common attributes.\n",
      "__init__ function of the class  Initializes the attributes.\n",
      "The title of the book is: Object Oriented Programming in Python Authored by: Michael H. Goldwasser\n"
     ]
    }
   ],
   "source": [
    "class Book:\n",
    "    '''This is a class to define Book with some common attributes.'''\n",
    "    def __init__(self):\n",
    "        '''Initializes the attributes.'''\n",
    "        title=\"\"\n",
    "        author=\"\"\n",
    "        isbn=\"\"\n",
    "        pages=0\n",
    "        publisher=\"\"\n",
    "        edition=0\n",
    "\n",
    "\n",
    "if __name__ == \"__main__\":\n",
    "    print(\" Class Book: \",Book.__doc__)\n",
    "    print(\"__init__ function of the class \",Book.__init__.__doc__)    \n",
    "\n",
    "    ooinpy = Book  # here we create the object\n",
    "    # let's assign values for our first object\n",
    "    ooinpy.title  = \"Object Oriented Programming in Python\"\n",
    "    ooinpy.author = \"Michael H. Goldwasser\"\n",
    "    ooinpy.isbn = \"0136150314\"\n",
    "    ooinpy.pages = 666\n",
    "    ooinpy.publisher = \"Pearson Prentice Hall\"\n",
    "    ooinpy.edition = 3\n",
    "\n",
    "    # let's read some values from the book\n",
    "    print(\"The title of the book is: \"+ooinpy.title+\" Authored by: \"+ooinpy.author)\n"
   ]
  },
  {
   "cell_type": "markdown",
   "metadata": {},
   "source": [
    "** Exercise:** Create your second book with the information of your favourite book. Print all the information in a clear format."
   ]
  },
  {
   "cell_type": "markdown",
   "metadata": {},
   "source": [
    "As you can see in the code above, the __init__ function initializes the attributes of the object. But when is it called? When an object is created, this __init__ function is called automatically. \n",
    "In the next step I am going to refactor the code and re-implement it to make the role of the __init__ function more clear."
   ]
  },
  {
   "cell_type": "code",
   "execution_count": 7,
   "metadata": {},
   "outputs": [
    {
     "name": "stdout",
     "output_type": "stream",
     "text": [
      " Class Book:  This is a class to define Book with some common attributes.\n",
      "__init__ function of the class  Initializes the attributes.\n",
      "The title of the book is: Object Oriented Programming in Python Authored by: Michael H. Goldwasser\n"
     ]
    }
   ],
   "source": [
    "\n",
    "class Book:\n",
    "    '''This is a class to define Book with some common attributes.'''\n",
    "    def __init__(self,val_title=\"\",val_author=\"\",val_isbn=\"\",val_pages=0,val_publisher=\"\",val_edition=0):\n",
    "        '''Initializes the attributes.'''\n",
    "        self.title=val_title\n",
    "        self.author=val_author\n",
    "        self.isbn=val_isbn\n",
    "        self.pages=val_pages\n",
    "        self.publisher=val_publisher\n",
    "        self.edition=val_edition\n",
    "\n",
    "\n",
    "if __name__ == \"__main__\":\n",
    "    print(\" Class Book: \",Book.__doc__)\n",
    "    print(\"__init__ function of the class \",Book.__init__.__doc__)\n",
    "\n",
    "    ooinpy = Book(\"Object Oriented Programming in Python\",\n",
    "                  \"Michael H. Goldwasser\",\"0136150314\",666,\"Pearson Prentice Hall\",3)\n",
    "    # let's read some values from the book\n",
    "    print(\"The title of the book is: \"+ooinpy.title+\" Authored by: \"+ooinpy.author)\n"
   ]
  },
  {
   "cell_type": "markdown",
   "metadata": {},
   "source": [
    "In the code above, check:\n",
    "- How the __init__ function is parametrized with arguments?\n",
    "- How the body of __init__ is is *refrencing* the **self** .\n",
    "- How the instantiation of ooinpy is simplified with parameters."
   ]
  },
  {
   "cell_type": "markdown",
   "metadata": {},
   "source": [
    "**Todo:**\n",
    "- Add a method to Book toString . Show how to use it. Update the UML model. The concept of behaviour.\n",
    "- Define the concept of type: now Book is a type that can have a value.\n",
    "- Ask an exercise: implement a class Person, with some simple attributes. An author is a person right? Ask the students to define the author with the new type Person. \n",
    "- An exercise: define a list of books and print them all: iteration over a list of objects."
   ]
  },
  {
   "cell_type": "code",
   "execution_count": null,
   "metadata": {},
   "outputs": [],
   "source": []
  }
 ],
 "metadata": {
  "kernelspec": {
   "display_name": "Python 3",
   "language": "python",
   "name": "python3"
  },
  "language_info": {
   "codemirror_mode": {
    "name": "ipython",
    "version": 3
   },
   "file_extension": ".py",
   "mimetype": "text/x-python",
   "name": "python",
   "nbconvert_exporter": "python",
   "pygments_lexer": "ipython3",
   "version": "3.6.4"
  }
 },
 "nbformat": 4,
 "nbformat_minor": 2
}
