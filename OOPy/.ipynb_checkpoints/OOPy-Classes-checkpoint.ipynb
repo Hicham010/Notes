{
 "cells": [
  {
   "cell_type": "markdown",
   "metadata": {},
   "source": [
    "# Object Oriented Modeling"
   ]
  },
  {
   "cell_type": "markdown",
   "metadata": {},
   "source": [
    "This note introduces main concepts of object oriented modeling. \n",
    "\n",
    "## Motivation\n",
    "\n",
    "Examples:\n",
    "- Imagine all different *intances* of bicycles. We can *classify* them based on their common attributes: model, chassy number, number of gears. Each separate bicycle assignes different values for these common *attributes*.\n",
    "- Think about all different *instances* of cars. They can be *classified* based on their common attributes: model, plate number, chassy number, color, etc. Again each separate instance of car has different values for their *attributes*.\n",
    "- Interestingly, both bicycle and car are *a kind of* vehicle. We can define an *abstract* group that can specify shared attributes. \n",
    "\n",
    "Here we will practice how to *model* these groups of objects: both in a programming language, like Python and a visualized modeling language, like UML.\n"
   ]
  },
  {
   "cell_type": "markdown",
   "metadata": {},
   "source": [
    "## Class vs. Object\n",
    "\n",
    "A class is defined as a group of entities with common properties. An instance of a class is an object with certain values assigned for attributes. \n",
    "\n",
    "Let's define a class: How can we define a group of books? \n",
    "To define a class, first you have to think about its properties. A book usually is distinguished with its title, author(s), publisher, ISBN number, edition number, etc. \n",
    "We are interested to use a visualised modeling language to define our class. Here is a UML model for our class:\n",
    "\n",
    "<img src=\"./oopy-images/oopy-classes-book.png\" alt=\"A class Book in UML\" >\n",
    "\n",
    "As you can see in the example, a class in UML is visualized with a rectangular with three compartments: upper part for the name of the class which must be unique, middle part that specifies all the attributes, and lower section that defines the behaviour (what does it mean? We will see later).\n",
    "\n",
    "To define a class in UML:\n",
    "- Specify its name. This is minimum for a class definition.\n",
    "- Specify its attributes. Each attribute has a *visibility*; here we define all as public, a *type*; like integer, character, string, etc, a *name*; simply a variable name; an *initial value*; \n"
   ]
  },
  {
   "cell_type": "code",
   "execution_count": null,
   "metadata": {},
   "outputs": [],
   "source": []
  },
  {
   "cell_type": "code",
   "execution_count": null,
   "metadata": {},
   "outputs": [],
   "source": []
  }
 ],
 "metadata": {
  "kernelspec": {
   "display_name": "Python 3",
   "language": "python",
   "name": "python3"
  },
  "language_info": {
   "codemirror_mode": {
    "name": "ipython",
    "version": 3
   },
   "file_extension": ".py",
   "mimetype": "text/x-python",
   "name": "python",
   "nbconvert_exporter": "python",
   "pygments_lexer": "ipython3",
   "version": "3.6.4"
  }
 },
 "nbformat": 4,
 "nbformat_minor": 2
}
