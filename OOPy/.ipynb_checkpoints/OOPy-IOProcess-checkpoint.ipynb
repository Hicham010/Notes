{
 "cells": [
  {
   "cell_type": "markdown",
   "metadata": {},
   "source": [
    "# IO Process\n",
    "\n",
    "This is not very related to the OOModeling but in order to build our case study we need to practice with the basic techniques by which one can read/write from/to files and process the contents. In this note we practice with the following topics:\n",
    "- read / write from / to a file.\n",
    "- handling json files\n",
    "- handling csv files\n",
    "- regular expressions as a tool to process content\n",
    "\n",
    "\n",
    "## Files: Read / Write\n",
    "\n",
    "Using files, there is a simple but important rule to remember: open the file, use (read/write) the file, close the file.\n",
    "\n",
    "There are plenty of materials available to explain the topic in detail. Here, I try to summarize the important points and practice with some examples.\n",
    "\n",
    "In Python:\n",
    "- one can open a file using a built in function **open(name,mode)** where name defines the name of the file and mode specifies the purpose of the file access: (r)ead, (w)rite, (a)ppend. In order to open a file to have both write and read 'r+' can be used.\n",
    "- after a successful execution of the function **open(...)** a file object is returned. The returned file object contains all the attributes and methods that are required to handle the files.\n",
    "- the most important methods to start: **write(content)**, **read()** and **close()**.\n",
    "\n",
    "In the following we try to provide some examples to practice the basics of files read / write."
   ]
  },
  {
   "cell_type": "code",
   "execution_count": 36,
   "metadata": {},
   "outputs": [
    {
     "name": "stdout",
     "output_type": "stream",
     "text": [
      "The content of the file after the read:\n",
      " [Note] This is a sample content to be written in a file \n",
      "\n"
     ]
    }
   ],
   "source": [
    "fo = open(r'./iofiles/sample.txt','w')  # Here we open a file to write: mode is w, directory address is relative\n",
    "fo.write('[Note] This is a sample content to be written in a file \\n') # write the given string: fo is the file object\n",
    "fo.close()  # Do not forget to close the file when you do not need it.\n",
    "# Let's read the content\n",
    "fo = open(r'./iofiles/sample.txt','r')  # Here we open a file to read it\n",
    "content = fo.read()  # Here we read the content\n",
    "print('The content of the file after the read:\\n',content)\n",
    "fo.close()"
   ]
  },
  {
   "cell_type": "code",
   "execution_count": 37,
   "metadata": {},
   "outputs": [
    {
     "name": "stdout",
     "output_type": "stream",
     "text": [
      "The latest content of our extended file is:\n",
      " We expect the file exits and this line will be added ...\n",
      "We expect the file exits and this line will be added ...\n",
      "We expect the file exits and this line will be added ...\n",
      "\n"
     ]
    }
   ],
   "source": [
    "fo = open('sample.txt','a') # no directory specified: means same folder \n",
    "fo.write('We expect the file exits and this line will be added ...\\n')\n",
    "fo.close()\n",
    "fo = open('sample.txt','r')\n",
    "content = fo.read()\n",
    "print('The latest content of our extended file is:\\n',content)\n",
    "fo.close()"
   ]
  },
  {
   "cell_type": "markdown",
   "metadata": {},
   "source": [
    "The following example introduces:\n",
    "- funtions **tell()** and **seek()** which can be used to get and put reading / writing position. \n",
    "- functions **split()** and **strip()** as very simple functions to parse and process content."
   ]
  },
  {
   "cell_type": "code",
   "execution_count": 76,
   "metadata": {},
   "outputs": [
    {
     "name": "stdout",
     "output_type": "stream",
     "text": [
      "Name,Class Year,Dorm,Room,GPA\n",
      "\n",
      "position now is at: 30\n",
      "taker,2018,McCarren House,312,3.75\n",
      "\n",
      "position now is at: 75\n",
      "Name,Class Year,Dorm,Room,GPA\n",
      "\n",
      "['Name', 'Class Year', 'Dorm', 'Room', 'GPA\\n']\n",
      "['Name', 'Class Year', 'Dorm', 'Room', 'GPA']\n"
     ]
    }
   ],
   "source": [
    "# A simple example to practice with tell() , seek(), readline()\n",
    "\n",
    "fo = open(r'csvexample.csv','r')\n",
    "line = fo.readline()  # This is readin one line from fo\n",
    "print(line)\n",
    "pos = fo.tell()  # This will tell us what is the current position of fo\n",
    "print('position now is at:', pos)\n",
    "fo.seek(pos+10)  # This is asking fo to jump to the position po+5\n",
    "line = fo.readline()\n",
    "print(line)\n",
    "pos = fo.tell()  # This will tell us what is the current position of fo\n",
    "print('position now is at:', pos)\n",
    "fo.seek(0)  # This is asking po to jump to the beginning\n",
    "line = fo.readline()  # This is readin a line from the beginning ...\n",
    "print(line)  # Here we print the content of the line\n",
    "print(line.split(',')) # Here we split the content of the line by comma\n",
    "cl = line.strip('\\n')  # Let's remove the newline character\n",
    "print(cl.split(','))  # Now it is more clean\n",
    "fo.close()"
   ]
  },
  {
   "cell_type": "markdown",
   "metadata": {},
   "source": [
    "## JSON Files\n",
    "\n",
    "In this note we practice simple steps of handling json file. In order to load information from a given json file we can employ the module *json*. See the example below:"
   ]
  },
  {
   "cell_type": "code",
   "execution_count": 38,
   "metadata": {},
   "outputs": [
    {
     "name": "stdout",
     "output_type": "stream",
     "text": [
      "[Content of json load is]: [{'id': 1, 'first_name': 'Jeanette', 'last_name': 'Penddreth', 'email': 'jpenddreth0@census.gov', 'gender': 'Female', 'ip_address': '26.58.193.2'}, {'id': 2, 'first_name': 'Giavani', 'last_name': 'Frediani', 'email': 'gfrediani1@senate.gov', 'gender': 'Male', 'ip_address': '229.179.4.212'}, {'id': 3, 'first_name': 'Noell', 'last_name': 'Bea', 'email': 'nbea2@imageshack.us', 'gender': 'Female', 'ip_address': '180.66.162.255'}, {'id': 4, 'first_name': 'Willard', 'last_name': 'Valek', 'email': 'wvalek3@vk.com', 'gender': 'Male', 'ip_address': '67.76.188.26'}]\n",
      "[Check the value of one of the keys]: Jeanette\n",
      "[All the keys]: dict_keys(['id', 'first_name', 'last_name', 'email', 'gender', 'ip_address'])\n",
      "[Print all the emails]:\n",
      "jpenddreth0@census.gov\n",
      "gfrediani1@senate.gov\n",
      "nbea2@imageshack.us\n",
      "wvalek3@vk.com\n"
     ]
    }
   ],
   "source": [
    "import json\n",
    "\n",
    "fo = open(r'example.json','r')\n",
    "content = fo.read()\n",
    "info = json.loads(content)\n",
    "\n",
    "print('[Content of json load is]:',info)\n",
    "print('[Check the value of one of the keys]:',info[0]['first_name'])\n",
    "print('[All the keys]:',info[0].keys())\n",
    "print('[Print all the emails]:')\n",
    "for i in range(0,len(info)):\n",
    "    print(info[i]['email'])\n",
    "\n",
    "fo.close()"
   ]
  },
  {
   "cell_type": "markdown",
   "metadata": {},
   "source": [
    "As you can find out from the content of a json file, all the information exists as a string. The function **json.loads()** converts this string into a dictionary. This is called *deserialization*. In order to store the information from a dictionary into a json file, we have to convert a dictionary into a sequence of characters. This process is known as *serialization*.\n",
    "\n",
    "The following example presents a simple example of serialization and storing into a file."
   ]
  },
  {
   "cell_type": "code",
   "execution_count": 39,
   "metadata": {},
   "outputs": [
    {
     "name": "stdout",
     "output_type": "stream",
     "text": [
      "{\n",
      "    \"country\": \"The Netherlands\",\n",
      "    \"city\": \"Rotterdam\",\n",
      "    \"postcode\": \"2323AX\",\n",
      "    \"street\": \"Zwartehondstraat\",\n",
      "    \"number\": \"24a\"\n",
      "}\n"
     ]
    }
   ],
   "source": [
    "import json\n",
    "\n",
    "class Address:\n",
    "    def __init__(self, cnt , cty , pcode, st , num):\n",
    "        self.country = cnt\n",
    "        self. city = cty\n",
    "        self.postcode = pcode\n",
    "        self.street = st\n",
    "        self.number = num\n",
    "\n",
    "if __name__ == '__main__':\n",
    "    ad = Address('The Netherlands','Rotterdam','2323AX','Zwartehondstraat','24a')\n",
    "    # Check how we pass dictionary of an object to serialize\n",
    "    adic = json.dumps(ad.__dict__ , indent = 4)  # method dumps takes care of serialization\n",
    "    # The result is a string to be stored / printed\n",
    "    print(adic)\n",
    "    # Here we can write the content into a file\n",
    "#    fo = open(r'./folder/address.json', 'w')  \n",
    "#    fo.write(adic)  \n",
    "#    fo.close()  \n"
   ]
  },
  {
   "cell_type": "markdown",
   "metadata": {},
   "source": [
    "Now the challenge is to serialize a complex object. Here by complex we mean objects that contain other objects as one of their attributes. In general, we have to implement the procedure to convert the object into a dictionary. See the example below."
   ]
  },
  {
   "cell_type": "code",
   "execution_count": 40,
   "metadata": {},
   "outputs": [
    {
     "name": "stdout",
     "output_type": "stream",
     "text": [
      "{\n",
      "  \"first_name\": \"John\",\n",
      "  \"last_name\": \"Johanssen\",\n",
      "  \"address\": {\n",
      "    \"country\": \"The Netherlands\",\n",
      "    \"city\": \"Rotterdam\",\n",
      "    \"postcode\": \"2323AX\",\n",
      "    \"street\": \"Zwartehondstraat\",\n",
      "    \"number\": \"24a\"\n",
      "  }\n",
      "}\n"
     ]
    }
   ],
   "source": [
    "import json\n",
    "\n",
    "class Address:\n",
    "    def __init__(self, cnt , cty , pcode, st , num):\n",
    "        self.country = cnt\n",
    "        self. city = cty\n",
    "        self.postcode = pcode\n",
    "        self.street = st\n",
    "        self.number = num\n",
    "\n",
    "class Person:\n",
    "    def __init__(self, fn, ln, ad):\n",
    "        self.first_name = fn\n",
    "        self.last_name = ln\n",
    "        self.address = ad\n",
    "    def toDict(self):\n",
    "        sd = self.__dict__\n",
    "        sd['address']=self.address.__dict__\n",
    "        return sd\n",
    "\n",
    "if __name__ == '__main__':\n",
    "    ad = Address('The Netherlands','Rotterdam','2323AX','Zwartehondstraat','24a')\n",
    "    p = Person('John','Johanssen', ad)\n",
    "    pdict = p.toDict() # Check: here we get the dictionary\n",
    "    res = json.dumps(pdict , indent = 2)  # we pass dictionary of an object to serialize\n",
    "    print(res)\n"
   ]
  },
  {
   "attachments": {},
   "cell_type": "markdown",
   "metadata": {},
   "source": [
    "## CSV Files\n",
    "\n",
    "A CSF file is simply a demilited text in which comma is used to separate the values. It is very suitable to represent a tabular data. A table consists of rows containing some fields. Each field contains a simple value: number, string, date, boolean, etc. In a CSV file, fields are separated by comma ( or sometimes other separator characters like tabs, semicolon, space). Below is a simple example to read the contents of a csv file."
   ]
  },
  {
   "cell_type": "code",
   "execution_count": 56,
   "metadata": {},
   "outputs": [
    {
     "name": "stdout",
     "output_type": "stream",
     "text": [
      "['Name', 'Class Year', 'Dorm', 'Room', 'GPA']\n",
      "['Sally Whittaker', '2018', 'McCarren House', '312', '3.75']\n",
      "['Belinda Jameson', '2017', 'Cushing House', '148', '3.52']\n",
      "['Jeff Smith', '2018', 'Prescott House', '17-D', '3.20']\n",
      "['Sandy Allen', '2019', 'Oliver House', '108', '3.48']\n"
     ]
    }
   ],
   "source": [
    "import csv\n",
    "\n",
    "fo = open(r'csvexample.csv','r')\n",
    "\n",
    "content = csv.reader(fo , delimiter = ',')\n",
    "\n",
    "for row in content:\n",
    "    print(row)  # Check the structure of a row given by a csv reader\n",
    "\n",
    "fo.close()"
   ]
  },
  {
   "cell_type": "markdown",
   "metadata": {},
   "source": [
    "The module csv from Python provides a reader method to provide the content in an ordered dictionary format. The reader assumes that the first line of the input file contains the field names."
   ]
  },
  {
   "cell_type": "code",
   "execution_count": 73,
   "metadata": {},
   "outputs": [
    {
     "name": "stdout",
     "output_type": "stream",
     "text": [
      "['Name', 'Class Year', 'Dorm', 'Room', 'GPA']\n",
      "Sally Whittaker with GPA =  3.75\n",
      "Belinda Jameson with GPA =  3.52\n",
      "Jeff Smith with GPA =  3.20\n",
      "Sandy Allen with GPA =  3.48\n"
     ]
    }
   ],
   "source": [
    "import csv\n",
    "\n",
    "fo = open(r'csvexample.csv','r')\n",
    "\n",
    "fields = fo.readline()  # Lets see the field names\n",
    "sf = fields.strip()  # This removes the newline character from the end of the line\n",
    "print(sf.split(','))  # This provides field names in a list\n",
    "fo.seek(0)\n",
    "\n",
    "content = csv.DictReader(fo , delimiter = ',') # Each row of content is an OrderedDict (ordered dictionary)\n",
    "\n",
    "for row in content:\n",
    "    print(row['Name'],'with GPA = ',row['GPA'])  # Check the structure of a row given by a csv reader\n",
    "\n",
    "fo.close()"
   ]
  },
  {
   "cell_type": "markdown",
   "metadata": {},
   "source": [
    "## Processing: Regular Expressions\n",
    "\n",
    "**Motivation**: Sometimes in a file we need to search for a specific patterns. For example, we would like to see where in the file expressions defining some amount of the value is written. So texts like 'amount=20', 'amount is 20', 'amount can be 20' or 'amount equals to 20' should be acceptable. We need a technique todefine such a general pattern. In the following we introduce regular expressions which is very helpful to define and find our required patterns.\n",
    "\n",
    "\n",
    "**Definition**: A RE is a regular expressions specified with a set of formal symbols to specify a pattern within a sequence. In order to define a pattern we specify **r** followed by a combination of the following symbols. Here we make a list of the basic symbols:\n",
    "- \\w : Any word characters (letters, digits, and the underscore _ character)\n",
    "- \\W : The sequence that DOES NOT contain any word characters ( anything that IS NOT in \\w )\n",
    "- \\d : Any digit\n",
    "- \\D : The sequence that DOES NOT contain any digits ( anything that IS NOT in \\d )\n",
    "- [ ] : A set of characters; like r'[a-m]' means any letter between a and m is a match, r'[arn]' means any of {a,r,n}.\n",
    "- \\* : Zero or more occurrences like r'ab*' means a followed by zero or more bs. like: a , ab, abbb, abbbb.\n",
    "- \\+ : One or more occurrences like r'aix+'\n",
    "- ?  : 0 or 1 of the preceding character; like r'ab?' means a or ab\n",
    "- {} : Exactly the specified number of occurrences; r'al{2}' means one a followed by exactly two l\n",
    "- |\t : Either left or right; like r'falls | stays'\n",
    "- () : makes a group\n",
    "\n",
    "\n",
    "\n",
    "**Programming**: \n",
    "In order to process regular expressions in Python we import a module named **re**. The module **re** provides us a method to search a pattern in a given string:\n",
    "\n",
    "**re.search(pattern, string, flags=0)** Scans through **string** looking for the first location where the regular expression **pattern** produces a match, and return a corresponding **match object**.\n",
    "\n",
    "A match object provides the folling methods to process the result of the search:\n",
    "- ** span() **: is a method from match object that returns a tuple containing the start-, and end positions of the match\n",
    "- ** string **: is an attribute that returns the string passed into the function\n",
    "- ** group() **: is a method that returns the part of the string where there was a match\n",
    "\n"
   ]
  },
  {
   "cell_type": "code",
   "execution_count": 41,
   "metadata": {},
   "outputs": [
    {
     "name": "stdout",
     "output_type": "stream",
     "text": [
      "The match object is: <_sre.SRE_Match object; span=(0, 5), match='Class'>\n",
      "The start and end pos of the match (0, 5)\n",
      "Class diagrams can specify static aspects of an entity. It defines the classes and relationships. \n",
      " For the examples above, we can define classes Light and Task. But, how can we specify / model the behaviour of \n",
      "the created objects from these classes? How can we specify that what happens to the objects during their lifetime? \n",
      "\n",
      "Class\n",
      "The result for all the matches is: [('C', 'lass', ''), ('c', 'lass', 'es'), ('c', 'lass', 'es'), ('c', 'lass', 'es')]\n"
     ]
    }
   ],
   "source": [
    "import re\n",
    "\n",
    "text = 'Class diagrams can specify static aspects of an entity. It defines the classes and relationships. \\n ' \\\n",
    "       'For the examples above, we can define classes Light and Task. But, how can we specify / model the behaviour of \\n' \\\n",
    "       'the created objects from these classes? How can we specify that what happens to the objects during their lifetime? \\n' \\\n",
    "\n",
    "r1 = r'([c|C])(lass)([a-z]*)'\n",
    "mo = re.search(r1, text)  # This will give the first macth\n",
    "print('The match object is:',mo) # This will print the match object\n",
    "print('The start and end pos of the match',mo.span()) # tuple containing the start-, and end positions of the match\n",
    "print(mo.string) # This will print the string passed into the function\n",
    "print(mo.group()) # This will print the part of the string where there was a match\n",
    "moall = re.findall(r1, text)  # This will all the matches\n",
    "print('The result for all the matches is:',moall) # This will print the list of all the matches"
   ]
  },
  {
   "cell_type": "markdown",
   "metadata": {},
   "source": [
    "**Exercise**: Read a text file. Search the RE r'([c|C])(lass)([a-z]*)' in the contents of the file.\n",
    "\n",
    "**Exercise**: Define a regular expression and search in the content of a text file.\n",
    "\n",
    "**Exercise**: The following code is given. It shows how to search a list of REs in a text. It store the results of the searches in a log-file. Morover, it can be used as an example to see how one can read the content of a file line-by-line. Copy the following code in your editor and try the following exercises: \n",
    "- Check each RE and see which word of the provided text is a match.\n",
    "- Add some terms at the end of the text that can be found by the list of REs.\n",
    "- Change the code to read the content of a given file and finds the REs in the content.\n"
   ]
  },
  {
   "cell_type": "code",
   "execution_count": 42,
   "metadata": {},
   "outputs": [],
   "source": [
    "import re\n",
    "\n",
    "text = 'Class diagrams can specify static aspects of an entity. ' \\\n",
    "       'It defines the classes and relationships. \\n ' \\\n",
    "       'For the examples above, we can define classes Light and Task. But, ... / model the behaviour of \\n' \\\n",
    "       'the created objects from these classes? .... during their lifetime? \\n' \\\n",
    "       'used to specify: Real-time / Mission-Critical systems, e.g. Defense Systems; ' \\\n",
    "       'Special-purpose devices, like ATM; Games.\\n' \\\n",
    "       'some terms added to be found,,, June 29th, July-16, ' \\\n",
    "       'the amount of some products can be 0 but we have a product with amount = 20. \\n'\n",
    "\n",
    "# let's define a list of all regular expressions\n",
    "regexs = [r'e.g.' , r'([T|t])(ask)([a-z]*)', r'([a-zA-Z]+)-([a-zA-Z]+)', r'(([a-zA-Z]+)( )([0-9]+))', \n",
    "          r'(([a-zA-Z]+).([0-9]+))' , r'(amount)(\\D+)(\\d+)', r'^[A-Z]', r'(\\w+|\\d+)([.])$']\n",
    "\n",
    "result = ''\n",
    "for reg in regexs:\n",
    "    ms = re.findall(reg, text, re.MULTILINE)  # This will give all the matches match\n",
    "    result = result + '\\n'+'RE is: '+reg+'\\n'+'All the matches are:'+str(ms)\n",
    "\n",
    "# In order to practice, uncomment the following lines \n",
    "#filename = 'regexp-result.txt'\n",
    "#filecontent = '[ Text ]:'+text+'\\n'+result\n",
    "#fo = open(filename ,'w')\n",
    "#fo.write(filecontent)\n",
    "#fo.close()\n",
    "#fo = open(filename,'r')\n",
    "#l = fo.readline() # reads one line\n",
    "#for l in fo:  # reads the file line by line\n",
    "#    print(l)\n",
    "#fo.close()"
   ]
  }
 ],
 "metadata": {
  "kernelspec": {
   "display_name": "Python 3",
   "language": "python",
   "name": "python3"
  },
  "language_info": {
   "codemirror_mode": {
    "name": "ipython",
    "version": 3
   },
   "file_extension": ".py",
   "mimetype": "text/x-python",
   "name": "python",
   "nbconvert_exporter": "python",
   "pygments_lexer": "ipython3",
   "version": "3.6.4"
  }
 },
 "nbformat": 4,
 "nbformat_minor": 2
}
