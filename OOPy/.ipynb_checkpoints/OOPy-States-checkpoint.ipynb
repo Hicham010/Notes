{
 "cells": [
  {
   "cell_type": "markdown",
   "metadata": {},
   "source": [
    "# Object Oriented Modeling: State Machine Diagrams\n",
    "\n",
    "In this note we will introduce State Machine Diagrams (SMDs) as a diagram that specifies the *behaviour* of an object, subsystem, system.\n",
    "\n",
    "## Motivation \n",
    "\n",
    "Sometimes the state of an object and transitions between the states are the main points of its behaviour to study (to model). Lets consider the following cases:\n",
    "- “A light can be either ON or OFF. A switch controls the light. If the light is ON/OFF, flipping the switch turns it into OFF/ON.”\n",
    "- “A task can be in one of these states: Pending, Processing, Done. A Pending task turns into Processing when there is enough resources, otherwise it stays as Pending. When it is completed, it is defined as Done.”\n",
    "\n",
    "Class diagrams can specify static aspects of an entity. It defines the classes and relationships. For the examples above, we can define classes Light and Task. But, how can we specify / model the behaviour of the created objects from these classes? How can we specify that what happens to the objects during their lifetime? What kind of triggers / events they response? \n",
    "In this note we will study state machine diagrams which is useful to model the behaviour of an entity regarding their states and transitions. State Machine Diagrams are heavily used to specify: Real-time / Mission-Critical systems, e.g. Defense Systems; Special-purpose devices, like ATM; Games.\n",
    "\n",
    "## States, Transitions, SMD\n",
    "\n",
    "**Definition**: Statechart Diagram (State Machine Diagram) specifies the behaviour of an object in terms of its states and transitions between the states. A state is a *condition or situation* during the life of an object during which it *satisfies some conditions*, *performs some activities*, or *waits for some events*. State machine is a specification of the sequences of states that an object or an interaction goes through in response to events during its life, together with its responsive effects (action and activity).\n",
    "\n",
    "**Example**: A light can be either ON or OFF. Two buttons controls the light: turn on, turn off. If the light is ON/OFF, turning off/on turns it into OFF/ON.\n",
    "\n",
    "**UML**:\n",
    "- Class Diagram: The specification can be simply modeled in one class: Light.\n",
    "\n",
    "<img src=\"./oopy-images/oopy-light-class.png\" alt=\"A class Light in UML\" >\n",
    "\n",
    "- State Machine Diagram: The following model specifies the state machine diagram specifying the behaviour. The diagram consists of two states. Transitions are modeled through arrows that start from a source state into a destination state. Each transition specifies how the object responses to the event / trigger.\n",
    "\n",
    "<img src=\"./oopy-images/oopy-light-smd.png\" alt=\"A state machine diagram for Light in UML\" >\n",
    "\n",
    "**Programming**: The behaviour of an entity usually is reflected in the implementation of the methods. A sample implementation is provided below.\n",
    "\n",
    "\n"
   ]
  },
  {
   "cell_type": "code",
   "execution_count": 6,
   "metadata": {
    "scrolled": false
   },
   "outputs": [
    {
     "name": "stdout",
     "output_type": "stream",
     "text": [
      "Light at the beginning is : OFF\n",
      "Light after trigger is : ON\n",
      "Light after several events is : ON\n"
     ]
    }
   ],
   "source": [
    "class Light:\n",
    "    def __init__(self):\n",
    "        self.__light = False\n",
    "    def turnOn(self):\n",
    "        self.__light = True if not(self.__light) else True\n",
    "            \n",
    "    def turnOff(self):\n",
    "        self.__light = False if self.__light else False\n",
    "            \n",
    "    def __str__(self):\n",
    "        return 'ON' if self.__light else 'OFF'\n",
    "\n",
    "if __name__ == '__main__':\n",
    "\n",
    "    l = Light()  # A light is instantiated here ...\n",
    "    print('Light at the beginning is :',l)\n",
    "    l.turnOn()  # The object receives its first event\n",
    "    print('Light after trigger is :',l)\n",
    "    l.turnOn()  # A sequence of events happens here\n",
    "    l.turnOff()\n",
    "    l.turnOff()\n",
    "    l.turnOn()\n",
    "    print('Light after several events is :',l)"
   ]
  },
  {
   "cell_type": "markdown",
   "metadata": {},
   "source": [
    "**Exercise**: The following model specifies an alternative trigger for the light. Update the provided code to implement the new behaviour.\n",
    "\n",
    "<img src=\"./oopy-images/oopy-light-smd-2.png\" alt=\"A alternative smd for Light in UML\" >\n"
   ]
  },
  {
   "cell_type": "markdown",
   "metadata": {},
   "source": [
    "**Exercise**: We are asked to specify the behaviour of an account. This can be a sample description of the lifetime for an account: \"When an account is created, it is Pending until it is Accepted or Rejected. When it is accepted it is Active until it is DeActivated. An account goes to DeActivated when it is not used for a particular period of time. It goes back to Active when it is used again. Otherwise, it is Deleted when the user requests for account removal.\" Design a class for Account. Design its behaviour using SMD (State Machine Diagram) and implement the model.\n"
   ]
  },
  {
   "cell_type": "markdown",
   "metadata": {},
   "source": [
    "**Definition**: A transition is specified using the following syntax:\n",
    "       \n",
    "             trigger [guard_condition] / behaviour\n",
    "\n",
    "- trigger: the event that may cause the transition.\n",
    "- guard condition: transition occurs if guard is evaluated as true.\n",
    "- behaviour: action(s) that the object performs during transition.\n",
    "\n",
    "**Example**: The following model specifies a device that is collecting input and starts processing when the input has required length.\n",
    "\n",
    "<img src=\"./oopy-images/oopy-keyboard-smd2.png\" alt=\"A smd for keyboard in UML\" >\n",
    "\n",
    "\n",
    "**Definition**: A *Doing* State is a state in which the object can perform actions while it is in particular state.  The behaviour of an object when it is in a particular state is specified by *internal behaviour*. The internal behaviour of an object is specified as:  label / behaviour .\n",
    "- A lable can be: do | entry | exit\n",
    "- A behaviour can be defined as an action.\n",
    "\n",
    "**Definition**: Internal transition is a transition that causes a reaction within the state of an object. Internal transition does not change the state of the object. Internal transition is specified as:\n",
    "\n",
    "               trigger [guard_condition] / behaviour\n",
    "               \n",
    "**Example**:\n",
    "\n",
    "<img src=\"./oopy-images/oopy-smd-fpsgame.png\" alt=\"A smd for FPS game in UML\" >\n",
    "\n",
    "**Exercise**: Add internal behaviour and internal transition for one or two of the states from the FPS game (see previous example).\n",
    "\n",
    "**Exercise**: Model the following scenario for dialing: As soon as we pick up the phone it starts with a dial tone. Dial tone stops when we start with entering digits. We continue with entering digits until the number is valid.\n",
    "\n"
   ]
  },
  {
   "cell_type": "markdown",
   "metadata": {},
   "source": [
    "## Practice\n",
    "\n",
    "**Exercise**: Analyze the behaviour of an ATM machine. Make a list of its possible states and transitions. Model an state machine diagram that represents your analysis and understanding from the system. Hint: Start with a simple behaviour and improve your model gradually. Try to emply all the concepts: states, doing states, triggers / events, guard condition, actions during the transitions, internal transitions.\n",
    "\n",
    "**Exercise**: Can you propose an implementation of the model presented for First Person Shooter."
   ]
  }
 ],
 "metadata": {
  "kernelspec": {
   "display_name": "Python 3",
   "language": "python",
   "name": "python3"
  },
  "language_info": {
   "codemirror_mode": {
    "name": "ipython",
    "version": 3
   },
   "file_extension": ".py",
   "mimetype": "text/x-python",
   "name": "python",
   "nbconvert_exporter": "python",
   "pygments_lexer": "ipython3",
   "version": "3.6.4"
  }
 },
 "nbformat": 4,
 "nbformat_minor": 2
}
