{
 "cells": [
  {
   "cell_type": "markdown",
   "metadata": {},
   "source": [
    "# IO Process\n",
    "\n",
    "This is not very related to the OOModeling but in order to build our case study we need to practice with the basic techniques by which one can read/write from/to files and process the contents. However, formal languages, reqular expressions and state machines have strong connections.\n",
    "\n",
    "## Files: Read / Write\n",
    "\n",
    "Using files, there is a simple but important rule to remember: open the file, use (read/write) the file, close the file.\n",
    "\n",
    "There are plenty of materials available to explain the topic in detail. Here, I try to summarize the important points and practice with some examples.\n",
    "\n",
    "In Python:\n",
    "- one can open a file using a built in function **open(name,mode)** where name defines the name of the file and mode specifies the purpose of the file access: (r)ead, (w)rite, (a)ppend. In order to open a file to have both write and read 'r+' can be used.\n",
    "- after a successful execution of the function **open(...)** a file object is returned. The returned file object contains all the attributes and methods that are required to handle the files.\n",
    "- the most important methods to start: **write(content)**, **read()** and **close()**.\n",
    "\n",
    "In the following we try to provide some examples to practice the basics of files read / write."
   ]
  },
  {
   "cell_type": "code",
   "execution_count": 7,
   "metadata": {},
   "outputs": [
    {
     "name": "stdout",
     "output_type": "stream",
     "text": [
      "The content of the file after the read: [Note] This is a sample content to be written in a file\n"
     ]
    }
   ],
   "source": [
    "fo = open('sample.txt','w')  # Here we open a file to write: mode is w\n",
    "fo.write('[Note] This is a sample content to be written in a file \\n') # write the given string: fo is the file object\n",
    "fo.close()  # Do not forget to close the file when you do not need it.\n",
    "# Let's read the content\n",
    "fo = open('sample.txt','r')  # Here we open a file to read it\n",
    "content = fo.read()  # Here we read the content\n",
    "print('The content of the file after the read:\\n',content)\n",
    "fo.close()"
   ]
  },
  {
   "cell_type": "code",
   "execution_count": 11,
   "metadata": {},
   "outputs": [
    {
     "name": "stdout",
     "output_type": "stream",
     "text": [
      "The latest content of our extended file is:\n",
      " We expect the file exits and this line will be added ...\n",
      "\n"
     ]
    }
   ],
   "source": [
    "fo = open('sample.txt','w')\n",
    "fo.close()\n",
    "fo = open('sample.txt','a')\n",
    "fo.write('We expect the file exits and this line will be added ...\\n')\n",
    "fo.close()\n",
    "fo = open('sample.txt','r')\n",
    "content = fo.read()\n",
    "print('The latest content of our extended file is:\\n',content)\n",
    "fo.close()"
   ]
  },
  {
   "cell_type": "markdown",
   "metadata": {},
   "source": [
    "## Processing: Regular Expressions\n",
    "\n",
    "**Motivation**: Sometimes in a file we need to search for a specific patterns. For example, we would like to see where in the file expressions defining some amount of the value is written. So texts like 'amount=20', 'amount is 20', 'amount can be 20' or 'amount equals to 20' should be acceptable. We need a technique todefine such a general pattern. In the following we introduce regular expressions which is very helpful to define and find our required patterns.\n",
    "\n",
    "\n",
    "**Definition**: A RE is a regular expressions specified with a set of formal symbols to specify a pattern within a sequence. In order to define a pattern we specify **r** followed by a combination of the following symbols. Here we make a list of the basic symbols:\n",
    "- \\w : Any word characters (letters, digits, and the underscore _ character)\n",
    "- \\W : The sequence that DOES NOT contain any word characters ( anything that IS NOT in \\w )\n",
    "- \\d : Any digit\n",
    "- \\D : The sequence that DOES NOT contain any digits ( anything that IS NOT in \\d )\n",
    "- [ ] : A set of characters; like r\"[a-m]\" means any letter between a and m is a match, r\"[arn]\" means any of {a,r,n}.\n",
    "- \\* : Zero or more occurrences like 'ab*' means a followed by zero or more bs. like: a , ab, abbb, abbbb.\n",
    "- \\+ : One or more occurrences like \"aix+\"\n",
    "- {} : Exactly the specified number of occurrences; r\"al{2}\" means one a followed by exactly two l\n",
    "- |\t : Either left or right; like \"falls | stays\"\n",
    "- () : makes a group\n",
    "\n",
    "\n",
    "\n",
    "**Programming**: \n",
    "In order to process regular expressions in Python we import a module named **re**. The module **re** provides us a method to search a pattern in a given string:\n",
    "\n",
    "**re.search(pattern, string, flags=0)** Scans through **string** looking for the first location where the regular expression **pattern** produces a match, and return a corresponding **match object**.\n",
    "\n",
    "A match object provides the folling methods to process the result of the search:\n",
    "- ** span() **: is a method from match object that returns a tuple containing the start-, and end positions of the match\n",
    "- ** string **: is an attribute that returns the string passed into the function\n",
    "- ** group() **: is a method that returns the part of the string where there was a match\n",
    "\n"
   ]
  },
  {
   "cell_type": "code",
   "execution_count": 19,
   "metadata": {},
   "outputs": [
    {
     "name": "stdout",
     "output_type": "stream",
     "text": [
      "The match object is: <_sre.SRE_Match object; span=(0, 5), match='Class'>\n",
      "The start and end pos of the match (0, 5)\n",
      "Class diagrams can specify static aspects of an entity. It defines the classes and relationships. \n",
      " For the examples above, we can define classes Light and Task. But, how can we specify / model the behaviour of \n",
      "the created objects from these classes? How can we specify that what happens to the objects during their lifetime? \n",
      "\n",
      "Class\n",
      "The result for all the matches is: [('C', 'lass', ''), ('c', 'lass', 'es'), ('c', 'lass', 'es'), ('c', 'lass', 'es')]\n"
     ]
    }
   ],
   "source": [
    "import re\n",
    "\n",
    "text = 'Class diagrams can specify static aspects of an entity. It defines the classes and relationships. \\n ' \\\n",
    "       'For the examples above, we can define classes Light and Task. But, how can we specify / model the behaviour of \\n' \\\n",
    "       'the created objects from these classes? How can we specify that what happens to the objects during their lifetime? \\n' \\\n",
    "\n",
    "r1 = r'([c|C])(lass)([a-z]*)'\n",
    "mo = re.search(r1, text)  # This will give the first macth\n",
    "print('The match object is:',mo) # This will print the match object\n",
    "print('The start and end pos of the match',mo.span()) # tuple containing the start-, and end positions of the match\n",
    "print(mo.string) # This will print the string passed into the function\n",
    "print(mo.group()) # This will print the part of the string where there was a match\n",
    "moall = re.findall(r1, text)  # This will all the matches\n",
    "print('The result for all the matches is:',moall) # This will print the list of all the matches"
   ]
  },
  {
   "cell_type": "code",
   "execution_count": null,
   "metadata": {},
   "outputs": [],
   "source": []
  }
 ],
 "metadata": {
  "kernelspec": {
   "display_name": "Python 3",
   "language": "python",
   "name": "python3"
  },
  "language_info": {
   "codemirror_mode": {
    "name": "ipython",
    "version": 3
   },
   "file_extension": ".py",
   "mimetype": "text/x-python",
   "name": "python",
   "nbconvert_exporter": "python",
   "pygments_lexer": "ipython3",
   "version": "3.6.4"
  }
 },
 "nbformat": 4,
 "nbformat_minor": 2
}
