{
 "cells": [
  {
   "cell_type": "markdown",
   "metadata": {},
   "source": [
    "# Object Oriented Modeling: Relations\n",
    "\n",
    "In this note we focus on classes and relations: How various objects in an application can collaborate with each other?"
   ]
  },
  {
   "cell_type": "markdown",
   "metadata": {},
   "source": [
    "## Review:\n",
    "We know:\n",
    "- A class is a descriptor for a set of entities that share the same attributes, operations, relations and behaviour. It does not have a life-time. It does not exist in run-time. \n",
    "- An object is an instance of a class with identity, state and behaviour. It has a life-time. It consumes memory at run-time.\n",
    "\n"
   ]
  },
  {
   "cell_type": "markdown",
   "metadata": {},
   "source": [
    "## Motivations\n",
    "\n",
    "Examples:\n",
    "\n",
    "- In a larger applications we may have a group of objects that are *inherently* sharing attributes and behaviours: in a library some people are working as employees and authors are writing books. But, both employees and authors are persons: they have shared properties. How do we model this?\n",
    "\n",
    "- An author writes a book. A library lends books. The objects involved in these type of scenarios are not sharing / *inheriting* properties, but they are *collaborating*. How one can specify the collaborations? \n",
    "\n",
    "Here we explain three fundamental relations between classes. We will try to present how various relations can be implemented in Python."
   ]
  },
  {
   "cell_type": "markdown",
   "metadata": {},
   "source": [
    "### Association\n",
    "\n",
    "**Definition**: An association describes *lifelong* connections / collaborations among objects. Association between two classes means: An object from one class, during its lifetime, has reference to object(s) of another class.\n",
    "\n",
    "**Example**: Each person has one or more address(es).\n",
    "\n",
    "**UML**: The picture here shows how an association between two classes can be represented in UML. It specifies: an object from Person has *exactly one* address which is defined as *private*. The number is called the carinality of the relation, the name specifies the variable name to be defined as an attribute of Person and '-' specifies the visibility (private or public) of the address in Person. \n",
    "\n",
    "<img src=\"./oopy-images/oopy-per-add-2.png\" alt=\"An example for the inheritance\">\n",
    "\n",
    "To specify an association one can define *navigability* (the direction of association), *multiplicity* (cardinality of objects involved in the relation), *visibility* (level of accessibility), *role* (how associated object is involved in the relation).\n",
    "\n",
    "In the model above, navigability is from Person to the Address, visibility is private, multiplicity is exactly one for the address and the role of Address is defined as address.  \n",
    "\n",
    "As it is defined, an association represents a reference. But, how an object from a Person has access to objects from Address? Check the code below.\n",
    "\n",
    "**Programming**: In programming, an association is implemented as an attribute. A Person (an object instantiated from a Person) has access to an Address (an object instantiated from an Address). The best way is to define an attribute for the Person of type Address. Then any object of Person can access to its address whenever it is needed.\n"
   ]
  },
  {
   "cell_type": "code",
   "execution_count": 23,
   "metadata": {},
   "outputs": [
    {
     "name": "stdout",
     "output_type": "stream",
     "text": [
      "[ Name ]:Dianna King[ Address ]:The Netherlands , Rotterdam , Rembrandt4\n"
     ]
    }
   ],
   "source": [
    "\n",
    "class Person:\n",
    "    def __init__(self,fn,ln,ad):  # let's initialize some attributes, including the address\n",
    "        self.first_name = fn\n",
    "        self.last_name = ln\n",
    "        self.__address = ad    # as it is specified in the model, address is private\n",
    "\n",
    "    def getInfo(self):      \n",
    "        # check: how the address object is used\n",
    "        res = '[ Name ]:'+self.first_name+' '+self.last_name+self.__address.getAddress()\n",
    "        return res\n",
    "\n",
    "class Address:\n",
    "    def __init__(self,cnt,cty,st,num):\n",
    "        self.country = cnt\n",
    "        self.city = cty\n",
    "        self.street = st\n",
    "        self.number = num\n",
    "\n",
    "    def getAddress(self):\n",
    "        return '[ Address ]:'+self.country+' , '+self.city+' , '+self.street+str(self.number)\n",
    "\n",
    "if __name__ == '__main__':\n",
    "    pa = Address('The Netherlands','Rotterdam','Rembrandt',4)\n",
    "    p = Person('Dianna','King',pa)  # check: how we pass the address\n",
    "\n",
    "    print(p.getInfo())"
   ]
  },
  {
   "cell_type": "markdown",
   "metadata": {},
   "source": [
    "**Exercise**: Intrepret the model below. It specifies that each person can have one or more addresses. How would you implement it? Update your code to meet the UML specification. What are the cardinality and visibility in this model?\n",
    "\n",
    "<img src=\"./oopy-images/oopy-per-add-3.png\" alt=\"An example for the inheritance\">\n"
   ]
  },
  {
   "cell_type": "markdown",
   "metadata": {},
   "source": [
    "### Dependency\n",
    "\n",
    "**Definition of Dependency**: Class A has *dependecy* relation with B when an object from A has access to an instance of B *temporarily* during its life-time.\n",
    "\n",
    "**Example**: In a board game, a player throws a die to move the pawns. The player does not need to keep the reference to the die during the whole play. The player gets the die, thorws the die, uses the result and release the access to the die.\n",
    "\n",
    "**UML**: The digram below shows how one can model the depenedency relation between a player and a die. Note that the rest of the model and application is not presented here.\n",
    "\n",
    "<img src=\"./oopy-images/oopy-dice-1.png\" alt=\"An example for the dependency\">\n",
    "\n",
    "**Programming**: The code below presents how one can implement the concept."
   ]
  },
  {
   "cell_type": "code",
   "execution_count": 28,
   "metadata": {},
   "outputs": [
    {
     "name": "stdout",
     "output_type": "stream",
     "text": [
      "Alex  moved pawns  1\n"
     ]
    }
   ],
   "source": [
    "from random import *\n",
    "\n",
    "class Die:\n",
    "    def __init__(self,s=6):  # default is a normal die\n",
    "        self.sides = s         # max of sides\n",
    "        self.state = randint(1,self.sides)  # the state of the die, a random number\n",
    "\n",
    "    def throw(self):\n",
    "        self.state = randint(1,self.sides)\n",
    "        return self.state\n",
    "\n",
    "class Player:\n",
    "    def __init__(self,n=''):\n",
    "        self.name = n\n",
    "\n",
    "    def play(self,d):  # check: the scope of using the die is this method\n",
    "        x = d.throw()\n",
    "        self.move(x)\n",
    "        # rest of the code can be here ...\n",
    "\n",
    "    def move(self,n):  # check: this method does not depend on Die\n",
    "        # move your pawns here ...\n",
    "        print(self.name,' moved pawns ',n)\n",
    "\n",
    "if __name__ == '__main__':\n",
    "    d = Die()  # let's create a normal die\n",
    "    p = Player('Alex')  # let's instantiate a player\n",
    "\n",
    "    p.play(d)  # we ask the player to play the game\n",
    "    # the rest of the code\n",
    "\n"
   ]
  },
  {
   "cell_type": "markdown",
   "metadata": {},
   "source": [
    "### Inheritance (Generalization)\n",
    "\n",
    "**Definition of Inheritance**: Inheritance (or generalization) specifies a hierarchy of abstractions, in which a subclass (child) inherits structure or behaviour from a superclass (parent). In this relationship a subclass extends features of its superclass.\n",
    "\n",
    "**Example**: Student is a kind of Person. A Student can inherit some features from Person. Moreover, a Student can extend the features of a Person. Student is a subclass (or child) and Person is called a superclass (or parent).\n",
    "\n",
    "**UML**: The picture here shows how an inheritance between two classes can be represented in UML.  \n",
    "\n",
    "<img src=\"./oopy-images/oopy-per-std-2.png\" alt=\"An example for the inheritance\">\n",
    "\n",
    "**Programming**: We have practiced how to implement classes. How can we specify that a Student is a child of Person? The following implementation presents how one can implement that Student inherits from Person. Moreover, it shows how shared attribtes (first name, last name) and shared behaviour (getInfo()) are defined in the parent class. Then, the child class, i.e. Student can add more attrbutes to the parent and can also extend the behaviour. The keyword **super()** allows the child class to access the attributes, methods of the parent class.\n"
   ]
  },
  {
   "cell_type": "code",
   "execution_count": 29,
   "metadata": {},
   "outputs": [
    {
     "name": "stdout",
     "output_type": "stream",
     "text": [
      "[ Check ]: Name : Peter Bell\n",
      "[ Check ]: [ Student ]:Name : Dianna King ; 09875673\n"
     ]
    }
   ],
   "source": [
    "class Person:\n",
    "    def __init__(self,fn,ln):  # let's initialize some attributes\n",
    "        self.first_name = fn\n",
    "        self.last_name = ln\n",
    "\n",
    "    def getInfo(self):\n",
    "        res = \"Name : \"+self.first_name+' '+self.last_name\n",
    "        return res\n",
    "\n",
    "\n",
    "class Student(Person):  # See how you can specify the parent of a class\n",
    "    def __init__(self,fn,ln,sn):\n",
    "        super().__init__(fn,ln)   # We can call parent's initializer : super() refers to the parent class\n",
    "        self.student_number = sn  # Students extends its parent here\n",
    "\n",
    "    def getInfo(self):\n",
    "        res = '[ Student ]:'+super().getInfo()+' ; '+self.student_number  # Let's extend parent's behaviour\n",
    "        return res\n",
    "\n",
    "\n",
    "if __name__==\"__main__\":\n",
    "    \n",
    "    p = Person('Peter','Bell') # Check: an object from the parent\n",
    "    std = Student('Dianna','King','09875673')  # Check: an object from the student\n",
    "\n",
    "    # see how same method behaves differently in two objects\n",
    "    print('[ Check ]:', p.getInfo())  \n",
    "    print('[ Check ]:', std.getInfo())  \n",
    "\n"
   ]
  },
  {
   "cell_type": "markdown",
   "metadata": {},
   "source": [
    "\n",
    "**Example**: The picture here shows a Student can be extended further. See the coresponding implementation below. Check all the details of inheritance carefully.  \n",
    "\n",
    "<img src=\"./oopy-images/oopy-per-std-3.png\" alt=\"An example for the inheritance\">\n",
    "\n"
   ]
  },
  {
   "cell_type": "code",
   "execution_count": 30,
   "metadata": {},
   "outputs": [
    {
     "name": "stdout",
     "output_type": "stream",
     "text": [
      "[ Check ]: [ Student ]:Name : Dianna King ; 09875673 Study Duration is:4\n",
      "[ Check ]: [ Student ]:Name : Emma Lee ; 09875345 Study Duration is:2\n"
     ]
    }
   ],
   "source": [
    "class Person:\n",
    "    def __init__(self,fn,ln):  # let's initialize some attributes\n",
    "        self.first_name = fn\n",
    "        self.last_name = ln\n",
    "\n",
    "    def getInfo(self):\n",
    "        res = \"Name : \"+self.first_name+' '+self.last_name\n",
    "        return res\n",
    "\n",
    "\n",
    "class Student(Person):  # See how you can specify the parent of a class\n",
    "    def __init__(self,fn,ln,sn):\n",
    "        super().__init__(fn,ln)   # We can call parent's initializer : super() refers to the parent class\n",
    "        self.student_number = sn  # Students extends its parent here\n",
    "\n",
    "    def getInfo(self):\n",
    "        res = '[ Student ]:'+super().getInfo()+' ; '+self.student_number  # Let's extend parent's behaviour\n",
    "        return res\n",
    "\n",
    "class BachelorStudent(Student):\n",
    "    def __init__(self,fn,ln,sn):\n",
    "        super().__init__(fn,ln,sn)\n",
    "        self.__study_duration = 4\n",
    "\n",
    "    def getInfo(self):\n",
    "        return super().getInfo()+' Study Duration is:'+str(self.__study_duration) # Let's extend parent's behaviour\n",
    "\n",
    "\n",
    "class MasterStudent(Student):\n",
    "    def __init__(self,fn,ln,sn):\n",
    "        super().__init__(fn,ln,sn)\n",
    "        self.__study_duration = 2\n",
    "\n",
    "    def getInfo(self):\n",
    "        return super().getInfo()+' Study Duration is:'+str(self.__study_duration) # Let's extend parent's behaviour\n",
    "\n",
    "\n",
    "if __name__==\"__main__\":\n",
    "    std1 = BachelorStudent('Dianna','King','09875673')\n",
    "    std2 = MasterStudent('Emma','Lee','09875345')\n",
    "\n",
    "    # Check: check how different pieces of the information is accessible through the hierarchy definition\n",
    "    print('[ Check ]:', std1.getInfo())\n",
    "    print('[ Check ]:', std2.getInfo())\n"
   ]
  },
  {
   "cell_type": "markdown",
   "metadata": {},
   "source": [
    "#### Polymorphism:\n",
    "\n",
    "**Definition**: A parent class may have children, each of which prefer to have different implementation for the same behaviour. This is called polymorphism. A polymorphic operation (method) is an operation that is defined in the parent class and the children classes supply with different implementations.\n",
    "\n",
    "**Example**: Check our model and code for Student, BachelorStudent and MasterStudent. They all inherit the method **getInfo()** from their ancestor Person. The class Person has its version of the implementation. Each child in the hierarchy provides a different implementation for the *same method*. However, all the children are reusing the implementation from their parents with an extension. \n",
    "\n",
    "**Programming**: Polymorphic methods are very helpful in programming. Check all the previous codes. In most all the classes we were trying to define a method to prepare a string in order to print related information. But, after a while it gets very difficult to be consistent with the name of the method. Some classes define **toString()** , some classes deviated to **getInfo()**. Actually, it is not needed to define a separate method to provide the information. In Python all the classes have an ancestor which has already defined such methods. One of these methods is named **\\__str__()** . Children can *override* this method to provide different behaviour. Check the code below."
   ]
  },
  {
   "cell_type": "code",
   "execution_count": 33,
   "metadata": {},
   "outputs": [
    {
     "name": "stdout",
     "output_type": "stream",
     "text": [
      "[ Check ]: Name : Peter Bell\n",
      "[ Check ]: [ Student ]:Name : Dianna King ; 09875673\n"
     ]
    }
   ],
   "source": [
    "class Person:\n",
    "    def __init__(self,fn,ln):  \n",
    "        self.first_name = fn\n",
    "        self.last_name = ln\n",
    "\n",
    "    def __str__(self): # let's override __str__() from the main ancestor\n",
    "        res = \"Name : \"+self.first_name+' '+self.last_name\n",
    "        return res\n",
    "\n",
    "\n",
    "class Student(Person):  \n",
    "    def __init__(self,fn,ln,sn):\n",
    "        super().__init__(fn,ln)   # We can call parent's initializer : super() refers to the parent class\n",
    "        self.student_number = sn  # Students extends its parent here\n",
    "\n",
    "    def __str__(self): # let's override __str__() from the main ancestor\n",
    "        res = '[ Student ]:'+super().__str__()+' ; '+self.student_number  # Let's extend parent's behaviour\n",
    "        return res\n",
    "\n",
    "\n",
    "if __name__==\"__main__\":\n",
    "    \n",
    "    p = Person('Peter','Bell') # Check: an object from the parent\n",
    "    std = Student('Dianna','King','09875673')  # Check: an object from the student\n",
    "\n",
    "    # see how the information of objects can be printed\n",
    "    print('[ Check ]:', p)  # Check: there is no need to call the method anymore ...\n",
    "    print('[ Check ]:', std)  \n"
   ]
  },
  {
   "cell_type": "markdown",
   "metadata": {},
   "source": [
    "#### Multiple Inheritance:\n",
    "\n",
    "**Definition**: We have multiple inheritance when a child class inherits from several parents. Collisions of inherited methods in multiple inheritance can be problematic.\n",
    "\n",
    "**Example**: Assume we have two classes **Parent_A** and **Parent_B**. They both implement a method named **meth()**. If we implement a class named **Child** inherited from both parents and call the method from the child, which version of this is being executed.\n",
    "\n",
    "**Programming**: Python resolves this name collision by giving more priority to the left parent. Check the code below."
   ]
  },
  {
   "cell_type": "code",
   "execution_count": 35,
   "metadata": {},
   "outputs": [],
   "source": [
    "class Parent_A:\n",
    "    def meth(self):\n",
    "        print('Child_A',self.__class__.__name__,' prints ',self.p_att)\n",
    "\n",
    "class Parent_B:\n",
    "    def meth(self):\n",
    "        print('Child_B',self.__class__.__name__,' prints ',self.p_att)\n",
    "\n",
    "class Child(Parent_A,Parent_B):\n",
    "    pass\n",
    "\n",
    "if __name__ == '__main__':\n",
    "    ca = Child()\n",
    "   # ca.meth()  # Question: What do you expect to be printed? Check the code and justofy your answer."
   ]
  },
  {
   "cell_type": "markdown",
   "metadata": {},
   "source": [
    "## Summary\n",
    "\n",
    "In this note we have learned:\n",
    "- How one can model and implement *lifelong* collaborations between objects: Association.\n",
    "- How one can model and implement *hirerachy* of classes: Inheritance.\n",
    "- How one can model and implement *temporary* collaborations between objects: Dependency."
   ]
  },
  {
   "cell_type": "markdown",
   "metadata": {},
   "source": [
    "## Practice\n",
    "\n",
    "**Exercise**: A teacher identified with an employee number is also a Person. Moreover, we have different categories of teachers: University and Hogeschool. Model this hirerachy in UML. Implement corresponding code. Show how children in each level extends the attributes and behaviour of the parents.\n",
    "\n",
    "** Exercise: ** Model (in UML) and implement the following problem statement: We have two types of vehicles: fueled and unfueled. A bicycle is kind of  unfueled vehicle. Single-fueled and Alternative-fueled vehicles are in the category of fueled vehicle. Define some proper attributes and methods for your classes. How do you define a Car in your design?\n",
    "\n",
    "** Exercise: ** Model (in UML) and implement the following problem statement: A Woman and a Man are of type of Person identified with date of birth of type Date, first and last names. A man can marry to zero or one woman. A woman can marry to zero or one man.”\n",
    "\n",
    "** Exercise: ** A game consists of a board with some cells, two die and several pawns. Two players can play the game. Define classes, model them in UML. Each player throws two die and move some pawns on the board. Design proper attributes, methods and implement some of the methods. For example, implement \"the player throws the die and based on the numbers, move two pawns\". Hint: the purpose of this exercise is not to build the whole game. Focus on designing properties, behaviours and how different objects can collaborate.\n",
    "\n"
   ]
  }
 ],
 "metadata": {
  "kernelspec": {
   "display_name": "Python 3",
   "language": "python",
   "name": "python3"
  },
  "language_info": {
   "codemirror_mode": {
    "name": "ipython",
    "version": 3
   },
   "file_extension": ".py",
   "mimetype": "text/x-python",
   "name": "python",
   "nbconvert_exporter": "python",
   "pygments_lexer": "ipython3",
   "version": "3.6.4"
  }
 },
 "nbformat": 4,
 "nbformat_minor": 2
}
