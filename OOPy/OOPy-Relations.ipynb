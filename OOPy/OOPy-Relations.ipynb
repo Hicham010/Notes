{
 "cells": [
  {
   "cell_type": "markdown",
   "metadata": {},
   "source": [
    "# Object Oriented Modeling: Relations\n",
    "\n",
    "In this note we focus on classes and relations: How various objects in an application can collaborate with each other?"
   ]
  },
  {
   "cell_type": "markdown",
   "metadata": {},
   "source": [
    "## Review:\n",
    "We know:\n",
    "- A class is a descriptor for a set of entities that share the same attributes, operations, relations and behaviour. It does not have a life-time. It does not exist in run-time. \n",
    "- An object is an instance of a class with identity, state and behaviour. It has a life-time. It consumes memory at run-time.\n",
    "\n"
   ]
  },
  {
   "cell_type": "markdown",
   "metadata": {},
   "source": [
    "## Motivations\n",
    "\n",
    "Examples:\n",
    "\n",
    "- In a larger applications we have a group of objects that are inherently sharing attributes and behaviours: in a library some people are working as employees and athors are writing books. But, both employees and authors are persons: they have shared properties. How do we model this?\n",
    "\n",
    "- An author writes a book. A library lends books. The objects involved in these type of scenarios are not sharing / *inheriting* properties, but they are *collaborating*.  "
   ]
  },
  {
   "cell_type": "markdown",
   "metadata": {},
   "source": [
    "## Class Diagram\n",
    "\n",
    "A class diagram of a (software) system specifies:\n",
    "- Static model of (software) units collaborating to each other.\n",
    "- Units are represented as Classes,\n",
    "- Collaborations are denoted statically as Relations between classes."
   ]
  },
  {
   "cell_type": "markdown",
   "metadata": {},
   "source": [
    "## Association\n",
    "\n",
    "Here comes the association relation"
   ]
  },
  {
   "cell_type": "markdown",
   "metadata": {},
   "source": [
    "## Inheritance (Generalization)\n",
    "\n",
    "**Definition of Inheritance**: Inheritance (or generalization) specifies a hierarchy of abstractions, in which a subclass (child) inherits structure or behaviour from a superclass (parent). In this relationship a subclass extends features of its superclass.\n",
    "\n",
    "**Example**: Student is a kind of Person. A Student can inherit some features from Person. Moreover, a Student can extend the features of a Person. Student is a subclass (or child) and Person is called a superclass (or parent).\n"
   ]
  },
  {
   "cell_type": "markdown",
   "metadata": {},
   "source": [
    "## Dependency\n",
    "\n",
    "Here comes the concepts of dependency ..."
   ]
  },
  {
   "cell_type": "markdown",
   "metadata": {},
   "source": [
    "## Summary\n",
    "\n",
    "In this note we have learned:\n",
    "- bla bla bla\n",
    "- bla bla bla"
   ]
  },
  {
   "cell_type": "markdown",
   "metadata": {},
   "source": [
    "## Practice\n",
    "\n",
    "** Exercise: ** A game consists of a board with some cells, two die and several pawns. Two players can play the game. Define classes, model them in UML. Each player throws two die and move some pawns on the board. Design proper attributes, methods and implement some of the methods. For example, implement \"the player throws the die and based on the numbers, move two pawns\". Hint: the purpose of this exercise is not to build the whole game. Focus on designing properties, behaviours and how you can use them.\n",
    "\n",
    "** Exercise: **\n",
    "\n",
    "** Exercise: **\n"
   ]
  },
  {
   "cell_type": "code",
   "execution_count": null,
   "metadata": {},
   "outputs": [],
   "source": []
  }
 ],
 "metadata": {
  "kernelspec": {
   "display_name": "Python 3",
   "language": "python",
   "name": "python3"
  },
  "language_info": {
   "codemirror_mode": {
    "name": "ipython",
    "version": 3
   },
   "file_extension": ".py",
   "mimetype": "text/x-python",
   "name": "python",
   "nbconvert_exporter": "python",
   "pygments_lexer": "ipython3",
   "version": "3.6.4"
  }
 },
 "nbformat": 4,
 "nbformat_minor": 2
}
