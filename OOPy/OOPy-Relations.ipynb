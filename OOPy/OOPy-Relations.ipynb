{
 "cells": [
  {
   "cell_type": "markdown",
   "metadata": {},
   "source": [
    "# Object Oriented Modeling: Relations\n",
    "\n",
    "In this note we focus on classes and relations: How various objects in an application can collaborate with each other?"
   ]
  },
  {
   "cell_type": "markdown",
   "metadata": {},
   "source": [
    "## Review:\n",
    "We know:\n",
    "- A class is a descriptor for a set of entities that share the same attributes, operations, relations and behaviour. It does not have a life-time. It does not exist in run-time. \n",
    "- An object is an instance of a class with identity, state and behaviour. It has a life-time. It consumes memory at run-time.\n",
    "\n"
   ]
  },
  {
   "cell_type": "markdown",
   "metadata": {},
   "source": [
    "## Motivations\n",
    "\n",
    "Examples:\n",
    "\n",
    "- In a larger applications we have a group of objects that are inherently sharing attributes and behaviours: in a library some people are working as employees and athors are writing books. But, both employees and authors are persons: they have shared properties. How do we model this?\n",
    "\n",
    "- An author writes a book. A library lends books. The objects involved in these type of scenarios are not sharing / *inheriting* properties, but they are *collaborating*.  "
   ]
  },
  {
   "cell_type": "markdown",
   "metadata": {},
   "source": [
    "## Class Diagram\n",
    "\n",
    "A class diagram of a (software) system specifies:\n",
    "- Static model of (software) units collaborating to each other.\n",
    "- Units are represented as *Classes*,\n",
    "- Collaborations are denoted statically as *Relations* between classes.\n",
    "\n",
    "Here we explain three fundamental relations between classes. We will try to present how various relations is implemented in Python."
   ]
  },
  {
   "cell_type": "markdown",
   "metadata": {},
   "source": [
    "### Association\n",
    "\n",
    "**Definition**: An association describes *lifelong* connections / collaborations among objects. Association between two classes means: An object from one class, during its lifetime, has reference to object(s) of another class.\n",
    "\n",
    "**Example**: Each person has one or more address(es).\n",
    "\n",
    "**UML**: The picture here shows how an association between two classes can be represented in UML.\n",
    "\n",
    "<img src=\"./oopy-images/oopy-per-add-2.png\" alt=\"An example for the inheritance\">\n",
    "\n",
    "As it is defined, an association represents a reference. But, how an object from a Person has access to objects from Address? Check the code below.\n",
    "\n",
    "**Programming**: In programming, an association is implemented as an attribute.\n"
   ]
  },
  {
   "cell_type": "code",
   "execution_count": 15,
   "metadata": {},
   "outputs": [
    {
     "name": "stdout",
     "output_type": "stream",
     "text": [
      "[ Name ]:Dianna King[ Address ]:The Netherlands , Rotterdam , Rembrandt4\n"
     ]
    }
   ],
   "source": [
    "\n",
    "class Person:\n",
    "    def __init__(self,fn,ln,ad):  # let's initialize some attributes, including the address\n",
    "        self.first_name = fn\n",
    "        self.last_name = ln\n",
    "        self.__address = ad    # as it is specified in the model, address is private\n",
    "\n",
    "    def getInfo(self):      \n",
    "        # check: how the address object is used\n",
    "        res = '[ Name ]:'+self.first_name+' '+self.last_name+self.__address.getAddress()\n",
    "        return res\n",
    "\n",
    "class Address:\n",
    "    def __init__(self,cnt,cty,st,num):\n",
    "        self.country = cnt\n",
    "        self.city = cty\n",
    "        self.street = st\n",
    "        self.number = num\n",
    "        self.__sep = ' , '\n",
    "\n",
    "    def getAddress(self):\n",
    "        return '[ Address ]:'+self.country+self.__sep+self.city+self.__sep+self.street+str(self.number)\n",
    "\n",
    "if __name__ == '__main__':\n",
    "    pa = Address('The Netherlands','Rotterdam','Rembrandt',4)\n",
    "    p = Person('Dianna','King',pa)  # check: how we pass the address\n",
    "\n",
    "    print(p.getInfo())"
   ]
  },
  {
   "cell_type": "markdown",
   "metadata": {},
   "source": [
    "**Exercise**: Intrepret the model below. It specifies that each person can have one or more addresses. How would you implement it? Update your code to meet the UML specification.\n",
    "<img src=\"./oopy-images/oopy-per-add-3.png\" alt=\"An example for the inheritance\">\n"
   ]
  },
  {
   "cell_type": "markdown",
   "metadata": {},
   "source": [
    "### Inheritance (Generalization)\n",
    "\n",
    "**Definition of Inheritance**: Inheritance (or generalization) specifies a hierarchy of abstractions, in which a subclass (child) inherits structure or behaviour from a superclass (parent). In this relationship a subclass extends features of its superclass.\n",
    "\n",
    "**Example**: Student is a kind of Person. A Student can inherit some features from Person. Moreover, a Student can extend the features of a Person. Student is a subclass (or child) and Person is called a superclass (or parent).\n",
    "\n",
    "**UML**: The picture here shows how an inheritance between two classes can be represented in UML.  \n",
    "\n",
    "<img src=\"./oopy-images/oopy-per-std-2.png\" alt=\"An example for the inheritance\">\n",
    "\n",
    "**Programming**: We have practiced how to implement classes. How can we specify that a Student is a child of Person? Check the code here.\n"
   ]
  },
  {
   "cell_type": "code",
   "execution_count": 16,
   "metadata": {},
   "outputs": [
    {
     "name": "stdout",
     "output_type": "stream",
     "text": [
      "[ Check ]: [ Student ]:Name : Dianna King ; 09875673\n",
      "[ Check ]: [ Student ]:Name : Dianna King ; 09875673\n"
     ]
    }
   ],
   "source": [
    "class Person:\n",
    "    def __init__(self,fn,ln):  # let's initialize some attributes\n",
    "        self.first_name = fn\n",
    "        self.last_name = ln\n",
    "\n",
    "    def getInfo(self):\n",
    "        res = \"Name : \"+self.first_name+' '+self.last_name\n",
    "        return res\n",
    "\n",
    "\n",
    "class Student(Person):  # See how you can specify the parent of a class\n",
    "    def __init__(self,fn,ln,sn):\n",
    "        super().__init__(fn,ln)   # We can call parent's initializer : super() refers to the parent class\n",
    "        self.student_number = sn  # Students extends its parent here\n",
    "\n",
    "    def getInfo(self):\n",
    "        res = '[ Student ]:'+super().getInfo()+' ; '+self.student_number  # Let's extend parent's behaviour\n",
    "        return res\n",
    "\n",
    "\n",
    "if __name__==\"__main__\":\n",
    "    std = Student('Dianna','King','09875673')\n",
    "\n",
    "    print('[ Check ]:', std.getInfo())  # Check: the method is defined in the parent class and we call from the child\n",
    "    print('[ Check ]:', std.getInfo())  # Check: this method is specific for Student\n",
    "\n"
   ]
  },
  {
   "cell_type": "markdown",
   "metadata": {},
   "source": [
    "todo: explain the concepts of the code below\n",
    "\n",
    "**UML**: The picture here shows how an inheritance between two classes can be represented in UML.  \n",
    "\n",
    "<img src=\"./oopy-images/oopy-per-std-3.png\" alt=\"An example for the inheritance\">\n",
    "\n",
    "\n",
    "\n",
    "\n",
    "**Exercise**: A teacher identified with an employee number is also a Person. Moreover, we have different categories of teachers: University and Hogeschool. Model this hirerachy in UML. Implement corresponding code. Show how children in each level extends the attributes and behaviour of the parents."
   ]
  },
  {
   "cell_type": "code",
   "execution_count": 17,
   "metadata": {},
   "outputs": [
    {
     "name": "stdout",
     "output_type": "stream",
     "text": [
      "[ Check ]: [ Student ]:Name : Dianna King ; 09875673 Study Duration is:4\n",
      "[ Check ]: [ Student ]:Name : Emma Lee ; 09875345 Study Duration is:2\n"
     ]
    }
   ],
   "source": [
    "class Person:\n",
    "    def __init__(self,fn,ln):  # let's initialize some attributes\n",
    "        self.first_name = fn\n",
    "        self.last_name = ln\n",
    "\n",
    "    def getInfo(self):\n",
    "        res = \"Name : \"+self.first_name+' '+self.last_name\n",
    "        return res\n",
    "\n",
    "\n",
    "class Student(Person):  # See how you can specify the parent of a class\n",
    "    def __init__(self,fn,ln,sn):\n",
    "        super().__init__(fn,ln)   # We can call parent's initializer : super() refers to the parent class\n",
    "        self.student_number = sn  # Students extends its parent here\n",
    "\n",
    "    def getInfo(self):\n",
    "        res = '[ Student ]:'+super().getInfo()+' ; '+self.student_number  # Let's extend parent's behaviour\n",
    "        return res\n",
    "\n",
    "class BachelorStudent(Student):\n",
    "    def __init__(self,fn,ln,sn):\n",
    "        super().__init__(fn,ln,sn)\n",
    "        self.__study_duration = 4\n",
    "\n",
    "    def getInfo(self):\n",
    "        return super().getInfo()+' Study Duration is:'+str(self.__study_duration) # Let's extend parent's behaviour\n",
    "\n",
    "\n",
    "class MasterStudent(Student):\n",
    "    def __init__(self,fn,ln,sn):\n",
    "        super().__init__(fn,ln,sn)\n",
    "        self.__study_duration = 2\n",
    "\n",
    "    def getInfo(self):\n",
    "        return super().getInfo()+' Study Duration is:'+str(self.__study_duration) # Let's extend parent's behaviour\n",
    "\n",
    "\n",
    "if __name__==\"__main__\":\n",
    "    std1 = BachelorStudent('Dianna','King','09875673')\n",
    "    std2 = MasterStudent('Emma','Lee','09875345')\n",
    "\n",
    "    # Check: check how different pieces of the information is accessible through the hierarchy definition\n",
    "    print('[ Check ]:', std1.getInfo())\n",
    "    print('[ Check ]:', std2.getInfo())\n"
   ]
  },
  {
   "cell_type": "markdown",
   "metadata": {},
   "source": [
    "### Dependency\n",
    "\n",
    "Here comes the concepts of dependency ..."
   ]
  },
  {
   "cell_type": "markdown",
   "metadata": {},
   "source": [
    "## Summary\n",
    "\n",
    "In this note we have learned:\n",
    "- How one can model and implement lifelong collaboration between two objects: Association.\n",
    "- How one can model and implement *hirerachy* of classes: inheritance."
   ]
  },
  {
   "cell_type": "markdown",
   "metadata": {},
   "source": [
    "## Practice\n",
    "\n",
    "** Exercise: ** A game consists of a board with some cells, two die and several pawns. Two players can play the game. Define classes, model them in UML. Each player throws two die and move some pawns on the board. Design proper attributes, methods and implement some of the methods. For example, implement \"the player throws the die and based on the numbers, move two pawns\". Hint: the purpose of this exercise is not to build the whole game. Focus on designing properties, behaviours and how you can use them.\n",
    "\n",
    "** Exercise: ** Model (in UML) and implement the following problem statement: We have two types of vehicles: fueled and unfueled. A bicycle is kind of  unfueled vehicle. Single-fueled and Alternative-fueled vehicles are in the category of fueled vehicle. Define some proper attributes and methods for your classes. How do you define a Car in your design?\n",
    "\n",
    "** Exercise: ** Model (in UML) and implement the following problem statement: A Woman and a Man are of type of Person identified with date of birth of type Date, first and last names. A man can marry to zero or one woman. A woman can marry to zero or one man.”\n",
    "\n"
   ]
  },
  {
   "cell_type": "code",
   "execution_count": null,
   "metadata": {},
   "outputs": [],
   "source": []
  }
 ],
 "metadata": {
  "kernelspec": {
   "display_name": "Python 3",
   "language": "python",
   "name": "python3"
  },
  "language_info": {
   "codemirror_mode": {
    "name": "ipython",
    "version": 3
   },
   "file_extension": ".py",
   "mimetype": "text/x-python",
   "name": "python",
   "nbconvert_exporter": "python",
   "pygments_lexer": "ipython3",
   "version": "3.6.4"
  }
 },
 "nbformat": 4,
 "nbformat_minor": 2
}
