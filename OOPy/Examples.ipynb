{
 "cells": [
  {
   "cell_type": "markdown",
   "metadata": {},
   "source": [
    "# Object Oriented Modeling: Examples\n",
    "\n",
    "Here we collect different examples together with the related exercises."
   ]
  },
  {
   "cell_type": "markdown",
   "metadata": {},
   "source": [
    "## Classes and Relations\n",
    "\n",
    "In this section I will try to collect a set of examples followed by exercises."
   ]
  },
  {
   "cell_type": "code",
   "execution_count": 4,
   "metadata": {},
   "outputs": [
    {
     "name": "stdout",
     "output_type": "stream",
     "text": [
      "Alex  moved pawns  2\n",
      "Alex  moved pawns  4\n",
      "Bob  moved pawns  6\n",
      "Bob  moved pawns  4\n",
      "Dianna  moved pawns  2\n",
      "Dianna  moved pawns  1\n",
      "John  moved pawns  4\n",
      "John  moved pawns  5\n"
     ]
    }
   ],
   "source": [
    "from random import *\n",
    "\n",
    "class Die:\n",
    "    def __init__(self,s=6):  \n",
    "        self.sides = s         \n",
    "        self.state = randint(1,self.sides)  \n",
    "\n",
    "    def throw(self):\n",
    "        self.state = randint(1,self.sides)\n",
    "        return self.state\n",
    "\n",
    "class Player:\n",
    "    def __init__(self,n=''):\n",
    "        self.name = n\n",
    "\n",
    "    def play(self,*dice):  \n",
    "        nums = [d.throw() for d in dice]\n",
    "        for x in nums:\n",
    "            self.move(x)\n",
    "        # rest of the code can be here ...\n",
    "\n",
    "    def move(self,n):  \n",
    "        # move your pawns here ...\n",
    "        print(self.name,' moved pawns ',n)\n",
    "\n",
    "if __name__ == '__main__':\n",
    "    d1 = Die()  # a normal die\n",
    "    d2 = Die(10)  # a die with 10 sides\n",
    "\n",
    "    players = []  # list of players\n",
    "\n",
    "    # let's instantiate a player\n",
    "    players.append(Player('Alex'))  \n",
    "    players.append(Player('Bob'))  \n",
    "    players.append(Player('Dianna'))  \n",
    "    players.append(Player('John'))  \n",
    "\n",
    "    for p in players:  # let's all play\n",
    "        p.play(d1,d2)"
   ]
  },
  {
   "cell_type": "markdown",
   "metadata": {},
   "source": [
    "**Exercise**: Check the code above: Die and Player. The relation represents a dependency. Explain why. Change the code to implement the relation as an association."
   ]
  },
  {
   "cell_type": "code",
   "execution_count": 2,
   "metadata": {},
   "outputs": [
    {
     "name": "stdout",
     "output_type": "stream",
     "text": [
      "5\n",
      "2.8284271247461903\n"
     ]
    }
   ],
   "source": [
    "# This is a simple example to practice abstract methods and inheritance\n",
    "\n",
    "import math\n",
    "from abc import ABC, abstractmethod\n",
    "\n",
    "class Point:\n",
    "    @abstractmethod\n",
    "    def distance(self,p):\n",
    "        pass\n",
    "\n",
    "class Point1D(Point):\n",
    "    def __init__(self,xv):\n",
    "        self.x = xv\n",
    "    def distance(self,p):\n",
    "        return abs(self.x-p.x)\n",
    "\n",
    "class Point2D(Point1D):\n",
    "    def __init__(self,xv,yv):\n",
    "        super().__init__(xv)\n",
    "        self.y = yv\n",
    "    def distance(self,p):\n",
    "        return math.sqrt((self.x-p.x)**2 + (self.y-p.y)**2)\n",
    "\n",
    "# Exercise: Implement Point3D\n",
    "\n",
    "if __name__=='__main__':\n",
    "    p1d1 = Point1D(3)\n",
    "    p2d1 = Point1D(8)\n",
    "\n",
    "    print(p1d1.distance(p2d1))\n",
    "\n",
    "    p1d2 = Point2D(5 , 10)\n",
    "    p2d2 = Point2D(7 , 8)\n",
    "\n",
    "    print(p1d2.distance(p2d2))\n",
    "# Write a test case for Point3D"
   ]
  },
  {
   "cell_type": "code",
   "execution_count": null,
   "metadata": {},
   "outputs": [],
   "source": []
  }
 ],
 "metadata": {
  "kernelspec": {
   "display_name": "Python 3",
   "language": "python",
   "name": "python3"
  },
  "language_info": {
   "codemirror_mode": {
    "name": "ipython",
    "version": 3
   },
   "file_extension": ".py",
   "mimetype": "text/x-python",
   "name": "python",
   "nbconvert_exporter": "python",
   "pygments_lexer": "ipython3",
   "version": "3.6.4"
  }
 },
 "nbformat": 4,
 "nbformat_minor": 2
}
