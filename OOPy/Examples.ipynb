{
 "cells": [
  {
   "cell_type": "markdown",
   "metadata": {},
   "source": [
    "# Object Oriented Modeling: Examples\n",
    "\n",
    "Here we collect different examples together with the related exercises."
   ]
  },
  {
   "cell_type": "markdown",
   "metadata": {},
   "source": [
    "## Classes and Relations\n",
    "\n",
    "In this section I will try to collect a set of examples followed by exercises."
   ]
  },
  {
   "cell_type": "code",
   "execution_count": 4,
   "metadata": {},
   "outputs": [
    {
     "name": "stdout",
     "output_type": "stream",
     "text": [
      "Alex  moved pawns  2\n",
      "Alex  moved pawns  4\n",
      "Bob  moved pawns  6\n",
      "Bob  moved pawns  4\n",
      "Dianna  moved pawns  2\n",
      "Dianna  moved pawns  1\n",
      "John  moved pawns  4\n",
      "John  moved pawns  5\n"
     ]
    }
   ],
   "source": [
    "from random import *\n",
    "\n",
    "class Die:\n",
    "    def __init__(self,s=6):  \n",
    "        self.sides = s         \n",
    "        self.state = randint(1,self.sides)  \n",
    "\n",
    "    def throw(self):\n",
    "        self.state = randint(1,self.sides)\n",
    "        return self.state\n",
    "\n",
    "class Player:\n",
    "    def __init__(self,n=''):\n",
    "        self.name = n\n",
    "\n",
    "    def play(self,*dice):  \n",
    "        nums = [d.throw() for d in dice]\n",
    "        for x in nums:\n",
    "            self.move(x)\n",
    "        # rest of the code can be here ...\n",
    "\n",
    "    def move(self,n):  \n",
    "        # move your pawns here ...\n",
    "        print(self.name,' moved pawns ',n)\n",
    "\n",
    "if __name__ == '__main__':\n",
    "    d1 = Die()  # a normal die\n",
    "    d2 = Die(10)  # a die with 10 sides\n",
    "\n",
    "    players = []  # list of players\n",
    "\n",
    "    # let's instantiate a player\n",
    "    players.append(Player('Alex'))  \n",
    "    players.append(Player('Bob'))  \n",
    "    players.append(Player('Dianna'))  \n",
    "    players.append(Player('John'))  \n",
    "\n",
    "    for p in players:  # let's all play\n",
    "        p.play(d1,d2)"
   ]
  },
  {
   "cell_type": "markdown",
   "metadata": {},
   "source": [
    "**Exercise**: Check the code above: Die and Player. The relation represents a dependency. Explain why. Change the code to implement the relation as an association."
   ]
  },
  {
   "cell_type": "code",
   "execution_count": null,
   "metadata": {},
   "outputs": [],
   "source": []
  }
 ],
 "metadata": {
  "kernelspec": {
   "display_name": "Python 3",
   "language": "python",
   "name": "python3"
  },
  "language_info": {
   "codemirror_mode": {
    "name": "ipython",
    "version": 3
   },
   "file_extension": ".py",
   "mimetype": "text/x-python",
   "name": "python",
   "nbconvert_exporter": "python",
   "pygments_lexer": "ipython3",
   "version": "3.6.4"
  }
 },
 "nbformat": 4,
 "nbformat_minor": 2
}
